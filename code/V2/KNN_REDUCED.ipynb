{
  "cells": [
    {
      "cell_type": "code",
      "source": [
        "# For CPU version\n",
        "!pip install faiss-cpu\n",
        "\n",
        "# For GPU version\n",
        "!pip install faiss-gpu\n"
      ],
      "metadata": {
        "colab": {
          "base_uri": "https://localhost:8080/"
        },
        "id": "6qDSx5Vx7HDE",
        "outputId": "9fb7cf01-bf1b-479b-c3e4-8398064db6b9"
      },
      "execution_count": 1,
      "outputs": [
        {
          "output_type": "stream",
          "name": "stdout",
          "text": [
            "Collecting faiss-cpu\n",
            "  Downloading faiss_cpu-1.8.0-cp310-cp310-manylinux_2_17_x86_64.manylinux2014_x86_64.whl (27.0 MB)\n",
            "\u001b[2K     \u001b[90m━━━━━━━━━━━━━━━━━━━━━━━━━━━━━━━━━━━━━━━━\u001b[0m \u001b[32m27.0/27.0 MB\u001b[0m \u001b[31m32.1 MB/s\u001b[0m eta \u001b[36m0:00:00\u001b[0m\n",
            "\u001b[?25hRequirement already satisfied: numpy in /usr/local/lib/python3.10/dist-packages (from faiss-cpu) (1.25.2)\n",
            "Installing collected packages: faiss-cpu\n",
            "Successfully installed faiss-cpu-1.8.0\n",
            "Collecting faiss-gpu\n",
            "  Downloading faiss_gpu-1.7.2-cp310-cp310-manylinux_2_17_x86_64.manylinux2014_x86_64.whl (85.5 MB)\n",
            "\u001b[2K     \u001b[90m━━━━━━━━━━━━━━━━━━━━━━━━━━━━━━━━━━━━━━━━\u001b[0m \u001b[32m85.5/85.5 MB\u001b[0m \u001b[31m9.5 MB/s\u001b[0m eta \u001b[36m0:00:00\u001b[0m\n",
            "\u001b[?25hInstalling collected packages: faiss-gpu\n",
            "Successfully installed faiss-gpu-1.7.2\n"
          ]
        }
      ]
    },
    {
      "cell_type": "code",
      "source": [
        "!pip install sentence_transformers\n",
        "!pip install pytrec_eval\n",
        "!pip install ir_datasets\n",
        "!pip install cherche --upgrade -q\n"
      ],
      "metadata": {
        "colab": {
          "base_uri": "https://localhost:8080/"
        },
        "id": "NdYyLiy77gaU",
        "outputId": "9f63a00b-9241-4bd1-ea7e-e578ff889dac"
      },
      "execution_count": 3,
      "outputs": [
        {
          "output_type": "stream",
          "name": "stdout",
          "text": [
            "Collecting sentence_transformers\n",
            "  Downloading sentence_transformers-3.0.1-py3-none-any.whl (227 kB)\n",
            "\u001b[?25l     \u001b[90m━━━━━━━━━━━━━━━━━━━━━━━━━━━━━━━━━━━━━━━━\u001b[0m \u001b[32m0.0/227.1 kB\u001b[0m \u001b[31m?\u001b[0m eta \u001b[36m-:--:--\u001b[0m\r\u001b[2K     \u001b[91m━━━━━━━━━━━━━━━━━━━━━━━\u001b[0m\u001b[90m╺\u001b[0m\u001b[90m━━━━━━━━━━━━━━━━\u001b[0m \u001b[32m133.1/227.1 kB\u001b[0m \u001b[31m3.8 MB/s\u001b[0m eta \u001b[36m0:00:01\u001b[0m\r\u001b[2K     \u001b[90m━━━━━━━━━━━━━━━━━━━━━━━━━━━━━━━━━━━━━━━━\u001b[0m \u001b[32m227.1/227.1 kB\u001b[0m \u001b[31m3.9 MB/s\u001b[0m eta \u001b[36m0:00:00\u001b[0m\n",
            "\u001b[?25hRequirement already satisfied: transformers<5.0.0,>=4.34.0 in /usr/local/lib/python3.10/dist-packages (from sentence_transformers) (4.41.2)\n",
            "Requirement already satisfied: tqdm in /usr/local/lib/python3.10/dist-packages (from sentence_transformers) (4.66.4)\n",
            "Requirement already satisfied: torch>=1.11.0 in /usr/local/lib/python3.10/dist-packages (from sentence_transformers) (2.3.0+cu121)\n",
            "Requirement already satisfied: numpy in /usr/local/lib/python3.10/dist-packages (from sentence_transformers) (1.25.2)\n",
            "Requirement already satisfied: scikit-learn in /usr/local/lib/python3.10/dist-packages (from sentence_transformers) (1.2.2)\n",
            "Requirement already satisfied: scipy in /usr/local/lib/python3.10/dist-packages (from sentence_transformers) (1.11.4)\n",
            "Requirement already satisfied: huggingface-hub>=0.15.1 in /usr/local/lib/python3.10/dist-packages (from sentence_transformers) (0.23.2)\n",
            "Requirement already satisfied: Pillow in /usr/local/lib/python3.10/dist-packages (from sentence_transformers) (9.4.0)\n",
            "Requirement already satisfied: filelock in /usr/local/lib/python3.10/dist-packages (from huggingface-hub>=0.15.1->sentence_transformers) (3.14.0)\n",
            "Requirement already satisfied: fsspec>=2023.5.0 in /usr/local/lib/python3.10/dist-packages (from huggingface-hub>=0.15.1->sentence_transformers) (2023.6.0)\n",
            "Requirement already satisfied: packaging>=20.9 in /usr/local/lib/python3.10/dist-packages (from huggingface-hub>=0.15.1->sentence_transformers) (24.0)\n",
            "Requirement already satisfied: pyyaml>=5.1 in /usr/local/lib/python3.10/dist-packages (from huggingface-hub>=0.15.1->sentence_transformers) (6.0.1)\n",
            "Requirement already satisfied: requests in /usr/local/lib/python3.10/dist-packages (from huggingface-hub>=0.15.1->sentence_transformers) (2.31.0)\n",
            "Requirement already satisfied: typing-extensions>=3.7.4.3 in /usr/local/lib/python3.10/dist-packages (from huggingface-hub>=0.15.1->sentence_transformers) (4.12.1)\n",
            "Requirement already satisfied: sympy in /usr/local/lib/python3.10/dist-packages (from torch>=1.11.0->sentence_transformers) (1.12.1)\n",
            "Requirement already satisfied: networkx in /usr/local/lib/python3.10/dist-packages (from torch>=1.11.0->sentence_transformers) (3.3)\n",
            "Requirement already satisfied: jinja2 in /usr/local/lib/python3.10/dist-packages (from torch>=1.11.0->sentence_transformers) (3.1.4)\n",
            "Collecting nvidia-cuda-nvrtc-cu12==12.1.105 (from torch>=1.11.0->sentence_transformers)\n",
            "  Using cached nvidia_cuda_nvrtc_cu12-12.1.105-py3-none-manylinux1_x86_64.whl (23.7 MB)\n",
            "Collecting nvidia-cuda-runtime-cu12==12.1.105 (from torch>=1.11.0->sentence_transformers)\n",
            "  Using cached nvidia_cuda_runtime_cu12-12.1.105-py3-none-manylinux1_x86_64.whl (823 kB)\n",
            "Collecting nvidia-cuda-cupti-cu12==12.1.105 (from torch>=1.11.0->sentence_transformers)\n",
            "  Using cached nvidia_cuda_cupti_cu12-12.1.105-py3-none-manylinux1_x86_64.whl (14.1 MB)\n",
            "Collecting nvidia-cudnn-cu12==8.9.2.26 (from torch>=1.11.0->sentence_transformers)\n",
            "  Using cached nvidia_cudnn_cu12-8.9.2.26-py3-none-manylinux1_x86_64.whl (731.7 MB)\n",
            "Collecting nvidia-cublas-cu12==12.1.3.1 (from torch>=1.11.0->sentence_transformers)\n",
            "  Using cached nvidia_cublas_cu12-12.1.3.1-py3-none-manylinux1_x86_64.whl (410.6 MB)\n",
            "Collecting nvidia-cufft-cu12==11.0.2.54 (from torch>=1.11.0->sentence_transformers)\n",
            "  Using cached nvidia_cufft_cu12-11.0.2.54-py3-none-manylinux1_x86_64.whl (121.6 MB)\n",
            "Collecting nvidia-curand-cu12==10.3.2.106 (from torch>=1.11.0->sentence_transformers)\n",
            "  Using cached nvidia_curand_cu12-10.3.2.106-py3-none-manylinux1_x86_64.whl (56.5 MB)\n",
            "Collecting nvidia-cusolver-cu12==11.4.5.107 (from torch>=1.11.0->sentence_transformers)\n",
            "  Using cached nvidia_cusolver_cu12-11.4.5.107-py3-none-manylinux1_x86_64.whl (124.2 MB)\n",
            "Collecting nvidia-cusparse-cu12==12.1.0.106 (from torch>=1.11.0->sentence_transformers)\n",
            "  Using cached nvidia_cusparse_cu12-12.1.0.106-py3-none-manylinux1_x86_64.whl (196.0 MB)\n",
            "Collecting nvidia-nccl-cu12==2.20.5 (from torch>=1.11.0->sentence_transformers)\n",
            "  Using cached nvidia_nccl_cu12-2.20.5-py3-none-manylinux2014_x86_64.whl (176.2 MB)\n",
            "Collecting nvidia-nvtx-cu12==12.1.105 (from torch>=1.11.0->sentence_transformers)\n",
            "  Using cached nvidia_nvtx_cu12-12.1.105-py3-none-manylinux1_x86_64.whl (99 kB)\n",
            "Requirement already satisfied: triton==2.3.0 in /usr/local/lib/python3.10/dist-packages (from torch>=1.11.0->sentence_transformers) (2.3.0)\n",
            "Collecting nvidia-nvjitlink-cu12 (from nvidia-cusolver-cu12==11.4.5.107->torch>=1.11.0->sentence_transformers)\n",
            "  Downloading nvidia_nvjitlink_cu12-12.5.40-py3-none-manylinux2014_x86_64.whl (21.3 MB)\n",
            "\u001b[2K     \u001b[90m━━━━━━━━━━━━━━━━━━━━━━━━━━━━━━━━━━━━━━━━\u001b[0m \u001b[32m21.3/21.3 MB\u001b[0m \u001b[31m25.4 MB/s\u001b[0m eta \u001b[36m0:00:00\u001b[0m\n",
            "\u001b[?25hRequirement already satisfied: regex!=2019.12.17 in /usr/local/lib/python3.10/dist-packages (from transformers<5.0.0,>=4.34.0->sentence_transformers) (2024.5.15)\n",
            "Requirement already satisfied: tokenizers<0.20,>=0.19 in /usr/local/lib/python3.10/dist-packages (from transformers<5.0.0,>=4.34.0->sentence_transformers) (0.19.1)\n",
            "Requirement already satisfied: safetensors>=0.4.1 in /usr/local/lib/python3.10/dist-packages (from transformers<5.0.0,>=4.34.0->sentence_transformers) (0.4.3)\n",
            "Requirement already satisfied: joblib>=1.1.1 in /usr/local/lib/python3.10/dist-packages (from scikit-learn->sentence_transformers) (1.4.2)\n",
            "Requirement already satisfied: threadpoolctl>=2.0.0 in /usr/local/lib/python3.10/dist-packages (from scikit-learn->sentence_transformers) (3.5.0)\n",
            "Requirement already satisfied: MarkupSafe>=2.0 in /usr/local/lib/python3.10/dist-packages (from jinja2->torch>=1.11.0->sentence_transformers) (2.1.5)\n",
            "Requirement already satisfied: charset-normalizer<4,>=2 in /usr/local/lib/python3.10/dist-packages (from requests->huggingface-hub>=0.15.1->sentence_transformers) (3.3.2)\n",
            "Requirement already satisfied: idna<4,>=2.5 in /usr/local/lib/python3.10/dist-packages (from requests->huggingface-hub>=0.15.1->sentence_transformers) (3.7)\n",
            "Requirement already satisfied: urllib3<3,>=1.21.1 in /usr/local/lib/python3.10/dist-packages (from requests->huggingface-hub>=0.15.1->sentence_transformers) (2.0.7)\n",
            "Requirement already satisfied: certifi>=2017.4.17 in /usr/local/lib/python3.10/dist-packages (from requests->huggingface-hub>=0.15.1->sentence_transformers) (2024.6.2)\n",
            "Requirement already satisfied: mpmath<1.4.0,>=1.1.0 in /usr/local/lib/python3.10/dist-packages (from sympy->torch>=1.11.0->sentence_transformers) (1.3.0)\n",
            "Installing collected packages: nvidia-nvtx-cu12, nvidia-nvjitlink-cu12, nvidia-nccl-cu12, nvidia-curand-cu12, nvidia-cufft-cu12, nvidia-cuda-runtime-cu12, nvidia-cuda-nvrtc-cu12, nvidia-cuda-cupti-cu12, nvidia-cublas-cu12, nvidia-cusparse-cu12, nvidia-cudnn-cu12, nvidia-cusolver-cu12, sentence_transformers\n",
            "Successfully installed nvidia-cublas-cu12-12.1.3.1 nvidia-cuda-cupti-cu12-12.1.105 nvidia-cuda-nvrtc-cu12-12.1.105 nvidia-cuda-runtime-cu12-12.1.105 nvidia-cudnn-cu12-8.9.2.26 nvidia-cufft-cu12-11.0.2.54 nvidia-curand-cu12-10.3.2.106 nvidia-cusolver-cu12-11.4.5.107 nvidia-cusparse-cu12-12.1.0.106 nvidia-nccl-cu12-2.20.5 nvidia-nvjitlink-cu12-12.5.40 nvidia-nvtx-cu12-12.1.105 sentence_transformers-3.0.1\n",
            "Collecting pytrec_eval\n",
            "  Downloading pytrec_eval-0.5.tar.gz (15 kB)\n",
            "  Preparing metadata (setup.py) ... \u001b[?25l\u001b[?25hdone\n",
            "Building wheels for collected packages: pytrec_eval\n",
            "  Building wheel for pytrec_eval (setup.py) ... \u001b[?25l\u001b[?25hdone\n",
            "  Created wheel for pytrec_eval: filename=pytrec_eval-0.5-cp310-cp310-linux_x86_64.whl size=308203 sha256=97db597dcc25864a23dcbcea975e941cf1a72e2ce53e2f52925f107155479738\n",
            "  Stored in directory: /root/.cache/pip/wheels/51/3a/cd/dcc1ddfc763987d5cb237165d8ac249aa98a23ab90f67317a8\n",
            "Successfully built pytrec_eval\n",
            "Installing collected packages: pytrec_eval\n",
            "Successfully installed pytrec_eval-0.5\n",
            "Collecting ir_datasets\n",
            "  Downloading ir_datasets-0.5.7-py3-none-any.whl (337 kB)\n",
            "\u001b[2K     \u001b[90m━━━━━━━━━━━━━━━━━━━━━━━━━━━━━━━━━━━━━━━━\u001b[0m \u001b[32m337.9/337.9 kB\u001b[0m \u001b[31m5.9 MB/s\u001b[0m eta \u001b[36m0:00:00\u001b[0m\n",
            "\u001b[?25hRequirement already satisfied: beautifulsoup4>=4.4.1 in /usr/local/lib/python3.10/dist-packages (from ir_datasets) (4.12.3)\n",
            "Collecting inscriptis>=2.2.0 (from ir_datasets)\n",
            "  Downloading inscriptis-2.5.0-py3-none-any.whl (45 kB)\n",
            "\u001b[2K     \u001b[90m━━━━━━━━━━━━━━━━━━━━━━━━━━━━━━━━━━━━━━━━\u001b[0m \u001b[32m45.4/45.4 kB\u001b[0m \u001b[31m4.8 MB/s\u001b[0m eta \u001b[36m0:00:00\u001b[0m\n",
            "\u001b[?25hRequirement already satisfied: lxml>=4.5.2 in /usr/local/lib/python3.10/dist-packages (from ir_datasets) (4.9.4)\n",
            "Requirement already satisfied: numpy>=1.18.1 in /usr/local/lib/python3.10/dist-packages (from ir_datasets) (1.25.2)\n",
            "Requirement already satisfied: pyyaml>=5.3.1 in /usr/local/lib/python3.10/dist-packages (from ir_datasets) (6.0.1)\n",
            "Requirement already satisfied: requests>=2.22.0 in /usr/local/lib/python3.10/dist-packages (from ir_datasets) (2.31.0)\n",
            "Requirement already satisfied: tqdm>=4.38.0 in /usr/local/lib/python3.10/dist-packages (from ir_datasets) (4.66.4)\n",
            "Collecting trec-car-tools>=2.5.4 (from ir_datasets)\n",
            "  Downloading trec_car_tools-2.6-py3-none-any.whl (8.4 kB)\n",
            "Collecting lz4>=3.1.10 (from ir_datasets)\n",
            "  Downloading lz4-4.3.3-cp310-cp310-manylinux_2_17_x86_64.manylinux2014_x86_64.whl (1.3 MB)\n",
            "\u001b[2K     \u001b[90m━━━━━━━━━━━━━━━━━━━━━━━━━━━━━━━━━━━━━━━━\u001b[0m \u001b[32m1.3/1.3 MB\u001b[0m \u001b[31m31.5 MB/s\u001b[0m eta \u001b[36m0:00:00\u001b[0m\n",
            "\u001b[?25hCollecting warc3-wet>=0.2.3 (from ir_datasets)\n",
            "  Downloading warc3_wet-0.2.3-py3-none-any.whl (13 kB)\n",
            "Collecting warc3-wet-clueweb09>=0.2.5 (from ir_datasets)\n",
            "  Downloading warc3-wet-clueweb09-0.2.5.tar.gz (17 kB)\n",
            "  Preparing metadata (setup.py) ... \u001b[?25l\u001b[?25hdone\n",
            "Collecting zlib-state>=0.1.3 (from ir_datasets)\n",
            "  Downloading zlib-state-0.1.6.tar.gz (9.5 kB)\n",
            "  Installing build dependencies ... \u001b[?25l\u001b[?25hdone\n",
            "  Getting requirements to build wheel ... \u001b[?25l\u001b[?25hdone\n",
            "  Installing backend dependencies ... \u001b[?25l\u001b[?25hdone\n",
            "  Preparing metadata (pyproject.toml) ... \u001b[?25l\u001b[?25hdone\n",
            "Collecting ijson>=3.1.3 (from ir_datasets)\n",
            "  Downloading ijson-3.3.0-cp310-cp310-manylinux_2_17_x86_64.manylinux2014_x86_64.whl (114 kB)\n",
            "\u001b[2K     \u001b[90m━━━━━━━━━━━━━━━━━━━━━━━━━━━━━━━━━━━━━━━━\u001b[0m \u001b[32m114.5/114.5 kB\u001b[0m \u001b[31m10.0 MB/s\u001b[0m eta \u001b[36m0:00:00\u001b[0m\n",
            "\u001b[?25hCollecting unlzw3>=0.2.1 (from ir_datasets)\n",
            "  Downloading unlzw3-0.2.2-py3-none-any.whl (6.1 kB)\n",
            "Requirement already satisfied: soupsieve>1.2 in /usr/local/lib/python3.10/dist-packages (from beautifulsoup4>=4.4.1->ir_datasets) (2.5)\n",
            "Requirement already satisfied: charset-normalizer<4,>=2 in /usr/local/lib/python3.10/dist-packages (from requests>=2.22.0->ir_datasets) (3.3.2)\n",
            "Requirement already satisfied: idna<4,>=2.5 in /usr/local/lib/python3.10/dist-packages (from requests>=2.22.0->ir_datasets) (3.7)\n",
            "Requirement already satisfied: urllib3<3,>=1.21.1 in /usr/local/lib/python3.10/dist-packages (from requests>=2.22.0->ir_datasets) (2.0.7)\n",
            "Requirement already satisfied: certifi>=2017.4.17 in /usr/local/lib/python3.10/dist-packages (from requests>=2.22.0->ir_datasets) (2024.6.2)\n",
            "Collecting cbor>=1.0.0 (from trec-car-tools>=2.5.4->ir_datasets)\n",
            "  Downloading cbor-1.0.0.tar.gz (20 kB)\n",
            "  Preparing metadata (setup.py) ... \u001b[?25l\u001b[?25hdone\n",
            "Building wheels for collected packages: warc3-wet-clueweb09, zlib-state, cbor\n",
            "  Building wheel for warc3-wet-clueweb09 (setup.py) ... \u001b[?25l\u001b[?25hdone\n",
            "  Created wheel for warc3-wet-clueweb09: filename=warc3_wet_clueweb09-0.2.5-py3-none-any.whl size=18919 sha256=749ce764765631130490ff2e48d49ded0d12c9f6437a2455682c34463db8fe0a\n",
            "  Stored in directory: /root/.cache/pip/wheels/1a/d7/91/7ffb991df87e62355d945745035470ba2616aa3d83a250b5f9\n",
            "  Building wheel for zlib-state (pyproject.toml) ... \u001b[?25l\u001b[?25hdone\n",
            "  Created wheel for zlib-state: filename=zlib_state-0.1.6-cp310-cp310-linux_x86_64.whl size=21161 sha256=d225c603cec694f22908becc4c5b52667619f6087d97dc102856b695beedc42f\n",
            "  Stored in directory: /root/.cache/pip/wheels/32/72/7e/aff80f26e926b6e1fb08dfb52aba03c0e058f5e2258deb50a9\n",
            "  Building wheel for cbor (setup.py) ... \u001b[?25l\u001b[?25hdone\n",
            "  Created wheel for cbor: filename=cbor-1.0.0-cp310-cp310-linux_x86_64.whl size=53430 sha256=086f2bd221b3b78d9de26b018d6da3e8fd058820214a9764c704dfb7427f91ba\n",
            "  Stored in directory: /root/.cache/pip/wheels/85/df/c9/b39e40eccaf76dbd218556639a6dc81562226f4c6a64902c85\n",
            "Successfully built warc3-wet-clueweb09 zlib-state cbor\n",
            "Installing collected packages: warc3-wet-clueweb09, warc3-wet, ijson, cbor, zlib-state, unlzw3, trec-car-tools, lz4, inscriptis, ir_datasets\n",
            "Successfully installed cbor-1.0.0 ijson-3.3.0 inscriptis-2.5.0 ir_datasets-0.5.7 lz4-4.3.3 trec-car-tools-2.6 unlzw3-0.2.2 warc3-wet-0.2.3 warc3-wet-clueweb09-0.2.5 zlib-state-0.1.6\n",
            "\u001b[2K     \u001b[90m━━━━━━━━━━━━━━━━━━━━━━━━━━━━━━━━━━━━━━━━\u001b[0m \u001b[32m1.9/1.9 MB\u001b[0m \u001b[31m8.1 MB/s\u001b[0m eta \u001b[36m0:00:00\u001b[0m\n",
            "\u001b[?25h  Preparing metadata (setup.py) ... \u001b[?25l\u001b[?25hdone\n",
            "\u001b[2K     \u001b[90m━━━━━━━━━━━━━━━━━━━━━━━━━━━━━━━━━━━━━━━━\u001b[0m \u001b[32m13.3/13.3 MB\u001b[0m \u001b[31m33.2 MB/s\u001b[0m eta \u001b[36m0:00:00\u001b[0m\n",
            "\u001b[2K     \u001b[90m━━━━━━━━━━━━━━━━━━━━━━━━━━━━━━━━━━━━━━━━\u001b[0m \u001b[32m3.4/3.4 MB\u001b[0m \u001b[31m45.6 MB/s\u001b[0m eta \u001b[36m0:00:00\u001b[0m\n",
            "\u001b[?25h  Preparing metadata (setup.py) ... \u001b[?25l\u001b[?25hdone\n",
            "\u001b[2K     \u001b[90m━━━━━━━━━━━━━━━━━━━━━━━━━━━━━━━━━━━━━━━━\u001b[0m \u001b[32m1.5/1.5 MB\u001b[0m \u001b[31m41.3 MB/s\u001b[0m eta \u001b[36m0:00:00\u001b[0m\n",
            "\u001b[2K     \u001b[90m━━━━━━━━━━━━━━━━━━━━━━━━━━━━━━━━━━━━━━━━\u001b[0m \u001b[32m38.6/38.6 MB\u001b[0m \u001b[31m12.2 MB/s\u001b[0m eta \u001b[36m0:00:00\u001b[0m\n",
            "\u001b[?25h  Building wheel for cherche (setup.py) ... \u001b[?25l\u001b[?25hdone\n",
            "  Building wheel for flashtext (setup.py) ... \u001b[?25l\u001b[?25hdone\n"
          ]
        }
      ]
    },
    {
      "cell_type": "code",
      "execution_count": 80,
      "metadata": {
        "colab": {
          "base_uri": "https://localhost:8080/"
        },
        "id": "BAuoBVH16pBi",
        "outputId": "4e84e841-5fdc-4392-a23a-99e93a09dc25"
      },
      "outputs": [
        {
          "output_type": "stream",
          "name": "stderr",
          "text": [
            "[INFO] [starting] http://ir.dcs.gla.ac.uk/resources/test_collections/npl/npl.tar.gz\n",
            "[INFO] [finished] http://ir.dcs.gla.ac.uk/resources/test_collections/npl/npl.tar.gz: [00:00] [2.13MB] [3.06MB/s]\n"
          ]
        }
      ],
      "source": [
        "import faiss\n",
        "import torch\n",
        "from sentence_transformers import SentenceTransformer\n",
        "import ir_datasets\n",
        "import numpy as np\n",
        "import pytrec_eval\n",
        "import ir_datasets\n",
        "\n",
        "\n",
        "# Charger le dataset scidocs de BEIR\n",
        "dataset = ir_datasets.load(\"vaswani\")\n",
        "documents = [doc.text for doc in dataset.docs_iter()]\n"
      ]
    },
    {
      "cell_type": "code",
      "source": [
        "print(dataset)\n",
        "queries = [query.text for query in dataset.queries_iter()]\n",
        "print(queries[:3])"
      ],
      "metadata": {
        "colab": {
          "base_uri": "https://localhost:8080/"
        },
        "id": "TQBQAl3EGTKq",
        "outputId": "c2c91971-c8f2-45cf-d3a2-8fed89de27d8"
      },
      "execution_count": 81,
      "outputs": [
        {
          "output_type": "stream",
          "name": "stdout",
          "text": [
            "Dataset(id='vaswani', provides=['docs', 'queries', 'qrels'])\n",
            "['MEASUREMENT OF DIELECTRIC CONSTANT OF LIQUIDS BY THE USE OF MICROWAVE TECHNIQUES\\n', 'MATHEMATICAL ANALYSIS AND DESIGN DETAILS OF WAVEGUIDE FED MICROWAVE RADIATIONS\\n', 'USE OF DIGITAL COMPUTERS IN THE DESIGN OF BAND PASS FILTERS HAVING GIVEN PHASE AND ATTENUATION CHARACTERISTICS\\n']\n"
          ]
        }
      ]
    },
    {
      "cell_type": "code",
      "source": [
        "documents = []\n",
        "for item in dataset.docs_iter():\n",
        "    if len(item) == 2:\n",
        "        doc_id, article = item\n",
        "        documents.append({'id': doc_id, 'article': article})\n",
        "    elif len(item) >= 3:\n",
        "        doc_id, article, title = item[:3]\n",
        "        documents.append({'id': doc_id, 'title': title, 'article': article})\n",
        "documents[:1]\n"
      ],
      "metadata": {
        "colab": {
          "base_uri": "https://localhost:8080/"
        },
        "id": "PwXMi7WNBK_W",
        "outputId": "c2e868e7-cace-4b51-9963-c2cc6171c817"
      },
      "execution_count": 82,
      "outputs": [
        {
          "output_type": "execute_result",
          "data": {
            "text/plain": [
              "[{'id': '1',\n",
              "  'article': 'compact memories have flexible capacities  a digital data storage\\nsystem with capacity up to bits and random and or sequential access\\nis described\\n'}]"
            ]
          },
          "metadata": {},
          "execution_count": 82
        }
      ]
    },
    {
      "cell_type": "markdown",
      "source": [
        "**REDUCE TEXT**"
      ],
      "metadata": {
        "id": "9yMfEUZ3LMrC"
      }
    },
    {
      "cell_type": "code",
      "source": [
        "import nltk\n",
        "from nltk.tokenize import sent_tokenize, word_tokenize\n",
        "from nltk.corpus import stopwords\n",
        "from collections import Counter\n",
        "import string\n",
        "\n",
        "nltk.download('punkt')\n",
        "nltk.download('stopwords')\n",
        "\n",
        "def summarize_article(article, num_sentences=3):\n",
        "    # Tokenize the article into sentences\n",
        "    sentences = sent_tokenize(article)\n",
        "\n",
        "    # Tokenize the article into words\n",
        "    words = word_tokenize(article.lower())\n",
        "\n",
        "    # Remove stopwords and punctuation\n",
        "    stop_words = set(stopwords.words('english'))\n",
        "    words = [word for word in words if word not in stop_words and word not in string.punctuation]\n",
        "\n",
        "    # Get the frequency of each word\n",
        "    word_freq = Counter(words)\n",
        "\n",
        "    # Score each sentence based on word frequencies\n",
        "    sentence_scores = {}\n",
        "    for sentence in sentences:\n",
        "        sentence_words = word_tokenize(sentence.lower())\n",
        "        score = sum(word_freq[word] for word in sentence_words if word in word_freq)\n",
        "        sentence_scores[sentence] = score\n",
        "\n",
        "    # Select the top N sentences\n",
        "    top_sentences = sorted(sentence_scores, key=sentence_scores.get, reverse=True)[:num_sentences]\n",
        "\n",
        "    # Join the top sentences to form the summary\n",
        "    summary = ' '.join(top_sentences)\n",
        "\n",
        "    return summary\n",
        "for doc in documents:\n",
        "    doc['article'] = summarize_article(doc['article'])\n",
        "\n",
        "documents[:1]\n"
      ],
      "metadata": {
        "colab": {
          "base_uri": "https://localhost:8080/"
        },
        "id": "LCNAa9RVCqp5",
        "outputId": "e66ed864-367b-4fb9-b455-163c64b4a4b4"
      },
      "execution_count": 83,
      "outputs": [
        {
          "output_type": "stream",
          "name": "stderr",
          "text": [
            "[nltk_data] Downloading package punkt to /root/nltk_data...\n",
            "[nltk_data]   Package punkt is already up-to-date!\n",
            "[nltk_data] Downloading package stopwords to /root/nltk_data...\n",
            "[nltk_data]   Package stopwords is already up-to-date!\n"
          ]
        },
        {
          "output_type": "execute_result",
          "data": {
            "text/plain": [
              "[{'id': '1',\n",
              "  'article': 'compact memories have flexible capacities  a digital data storage\\nsystem with capacity up to bits and random and or sequential access\\nis described'}]"
            ]
          },
          "metadata": {},
          "execution_count": 83
        }
      ]
    },
    {
      "cell_type": "markdown",
      "source": [
        "**REDUCE QUERIES**"
      ],
      "metadata": {
        "id": "ZBgmPAx4LRHb"
      }
    },
    {
      "cell_type": "code",
      "source": [
        "import nltk\n",
        "from nltk.tokenize import word_tokenize\n",
        "from nltk.corpus import stopwords\n",
        "import string\n",
        "\n",
        "nltk.download('punkt')\n",
        "nltk.download('stopwords')\n",
        "\n",
        "\n",
        "def create_vocabulary(queries):\n",
        "    stop_words = set(stopwords.words('english'))\n",
        "    vocabulary = set()\n",
        "\n",
        "    for query in queries:\n",
        "        # Tokeniser les mots de la query\n",
        "        words = word_tokenize(query.lower())\n",
        "\n",
        "        # Enlever les stopwords et la ponctuation\n",
        "        words = [word for word in words if word not in stop_words and word not in string.punctuation]\n",
        "\n",
        "        # Ajouter les mots à l'ensemble de vocabulaire\n",
        "        vocabulary.update(words)\n",
        "\n",
        "    return vocabulary\n",
        "\n",
        "vocabulary = create_vocabulary(queries)\n",
        "\n",
        "# Afficher le vocabulaire\n",
        "print(vocabulary)\n"
      ],
      "metadata": {
        "colab": {
          "base_uri": "https://localhost:8080/"
        },
        "id": "Ke9pOOYcFKCW",
        "outputId": "0c318c14-e5f1-483f-857c-82ad6b8af944"
      },
      "execution_count": 84,
      "outputs": [
        {
          "output_type": "stream",
          "name": "stdout",
          "text": [
            "{'articles', 'harmonic', 'breaker', 'obtained', 'states', 'available', 'oxidation', 'counters', 'back', 'relation', 'presence', 'whereby', 'spherical', 'digital', 'ferromagnetic', 'elements', 'near', 'integral', 'computer', 'absorption', 'sunrise', 'rates', 'adder', 'transfer', 'servo', 'nets', 'paths', 'canonical', 'electrode', 'fast', 'tunnel', 'made', 'wish', 'producing', 'conductors', 'send', 'instantaneous', 'gases', 'relays', 'loss', 'could', 'diurnal', 'arithmetic', 'electrical', 'drift', 'printed', 'frequency', 'predicting', 'disc', 'electron', 'possibilities', 'comparison', 'mechanical', 'analysis', 'effect', 'fields', 'behaviour', 'resistivity', 'inductance', 'components', 'pertinent', 'independent', 'discharges', 'meteors', 'noise', 'division', 'pressures', 'governing', 'problems', 'give', 'cosmic', 'tuned', 'systems', 'please', 'narrow', 'minimal', 'rays', 'splitting', 'filter', 'form', 'random', 'contacts', 'moving', 'pretreatment', 'approach', 'variables', 'sun', 'connected', 'phase', 'temperature', 'derivation', 'use', 'electric', 'charged', 'filters', 'orbits', 'attenuators', 'affected', 'showing', 'practical', 'calculate', 'emission', 'details', 'streams', 'bombardment', 'capacitance', 'capacitive', 'data', 'metallic', 'parallel', 'dielectric', 'individual', 'characteristics', 'interferometers', 'density', 'obtain', 'electronic', 'oscillators', 'waveguide', 'giving', 'given', 'numerical', 'functions', 'efficiency', 'pulse', 'abstracts', 'gain', 'extend', 'microwave', 'synthesis', 'stores', 'including', 'secondary', 'devices', 'engineering', 'transistorised', 'flops', 'representation', 'circuitry', 'surrounding', 'using', 'related', 'distortions', 'primary', 'amplifier', 'superconductor', 'graphs', 'coupled', 'observations', 'parametric', 'measurements', 'computers', 'bases', 'low', 'calculating', 'liquids', 'programs', 'theories', 'discharge', 'variations', 'feedback', 'slab', 'coding', 'cathode', 'similarities', 'ion', 'maximum', 'ground', 'conductivity', 'waves', 'electrons', 'emitted', 'faulty', 'resting', 'storms', 'radio', 'solution', 'flip', 'diffraction', 'equator', 'superconducting', 'registers', 'compared', 'aurora', 'experiments', 'whistlers', 'diode', 'arc', 'eclipses', 'suitable', 'active', 'beam', 'depth', 'film', 'interested', 'operation', 'work', 'period', 'ray', 'miniaturization', 'differential', 'static', 'performance', 'distribution', 'relay', 'fluctuations', 'ultra', 'masses', 'modulation', 'optimising', 'investigations', 'communication', 'jupiter', 'slope', 'caused', 'transformer', 'ideas', 'function', 'cavity', 'power', 'effects', 'positive', 'nonlinear', 'transistors', 'semiconductor', 'determination', 'cut', 'capable', 'solar', 'day', 'circuits', 'exosphere', 'complex', 'measurement', 'attenuation', 'particles', 'logical', 'weather', 'prevent', 'treatment', 'methods', 'collision', 'direct', 'rare', 'mathematical', 'fed', 'ionization', 'study', 'theory', 'spectrum', 'miniature', 'scattered', 'resonator', 'capacitors', 'high', 'flares', 'dissipation', 'sources', 'specific', 'constant', 'balloon', 'infinite', 'values', 'temperatures', 'critical', 'generator', 'discontinuity', 'transistor', 'reactive', 'like', 'shock', 'done', 'switching', 'testing', 'extremely', 'rectification', 'advantages', 'good', 'sampled', 'networks', 'circuit', 'ionosphere', 'drifts', 'explained', 'resistive', 'checking', 'generating', 'ionospheric', 'getting', 'reflections', 'lattice', 'tuning', 'techniques', 'versus', 'article', 'abstract', 'design', 'propagation', 'number', 'band', 'information', 'circular', 'magnetic', 'binary', 'moons', 'hydromagnetic', 'level', 'coils', 'results', 'electromagnetic', 'lunar', 'expressions', 'diagram', 'source', 'radiations', 'time', 'single', 'pass', 'units', 'frequencies', 'heat', 'construction', 'model', 'theoretical', 'range', 'multiplexing', 'plasma', 'voltage', 'altitude', 'varying', 'relationships', 'error', 'signal', 'estimates', 'height', 'studies', 'input', 'reflection', 'spectral', 'variable', 'linear', 'sampling', 'pulses', 'equations', 'inductive', 'surface', 'transmission', 'lightning', 'simultaneous', 'machines', 'audio', 'phenomenon', 'field', 'impedance', 'thin', 'corona', 'roughness', 'stability', 'value', 'densities', 'earths', 'required', 'films', 'amplifiers', 'spectra', 'sweep', 'mechanisms', 'typical', 'boundary', 'highly', 'radiation', 'plane', 'supply', 'planet', 'upper', 'block', 'control', 'generators', 'current', 'analogue', 'memory', 'atmosphere', 'nature', 'switches', 'stable', 'diagrams', 'would', 'references', 'approximating', 'rapid', 'serial', 'shift', 'wave', 'small', 'cross', 'valves'}\n"
          ]
        },
        {
          "output_type": "stream",
          "name": "stderr",
          "text": [
            "[nltk_data] Downloading package punkt to /root/nltk_data...\n",
            "[nltk_data]   Package punkt is already up-to-date!\n",
            "[nltk_data] Downloading package stopwords to /root/nltk_data...\n",
            "[nltk_data]   Package stopwords is already up-to-date!\n"
          ]
        }
      ]
    },
    {
      "cell_type": "markdown",
      "source": [
        "**KEEPING ONLY THE QUERIES VOCABULARY**"
      ],
      "metadata": {
        "id": "Y-p6_YZPLXIr"
      }
    },
    {
      "cell_type": "code",
      "source": [
        "def reduce_articles_to_vocabulary(articles, vocabulary):\n",
        "        # Tokenize the article into words\n",
        "        words = article.split()\n",
        "\n",
        "        # Filter out words not in the vocabulary\n",
        "        reduced_words = set([word for word in words if word in vocabulary])\n",
        "\n",
        "        reduced_article = ' '.join(reduced_words)\n",
        "\n",
        "        # Append the reduced article to the list\n",
        "\n",
        "        return reduced_article\n",
        "\n"
      ],
      "metadata": {
        "id": "ONEb_CW6If0D"
      },
      "execution_count": 85,
      "outputs": []
    },
    {
      "cell_type": "code",
      "source": [
        "documents = []\n",
        "for item in dataset.docs_iter():\n",
        "    if len(item) == 2:\n",
        "        doc_id, article = item\n",
        "        documents.append({'id': doc_id, 'article': reduce_articles_to_vocabulary(article, vocabulary)})\n",
        "    elif len(item) >= 3:\n",
        "        doc_id, article, title = item[:3]\n",
        "        documents.append({'id': doc_id, 'title': title, 'article': reduce_articles_to_vocabulary(article, vocabulary)})\n",
        "\n",
        "# Print the length of the documents list to ensure it was created correctly\n",
        "print(len(documents))\n",
        "documents[:10]\n"
      ],
      "metadata": {
        "colab": {
          "base_uri": "https://localhost:8080/"
        },
        "id": "gJrjBd9VKalK",
        "outputId": "3c9c9445-92ea-444d-b970-ea8462298ea8"
      },
      "execution_count": 86,
      "outputs": [
        {
          "output_type": "stream",
          "name": "stdout",
          "text": [
            "11429\n"
          ]
        },
        {
          "output_type": "execute_result",
          "data": {
            "text/plain": [
              "[{'id': '1', 'article': 'random digital data'},\n",
              " {'id': '2',\n",
              "  'article': 'systems computer equations electronic derivation analogue stability amplifiers linear mathematical'},\n",
              " {'id': '3',\n",
              "  'article': 'calculating details construction circuit electronic transformer given'},\n",
              " {'id': '4', 'article': 'computer'},\n",
              " {'id': '5',\n",
              "  'article': 'logical systems computer transistor fast digital pulse circuits transformer efficiency coupled'},\n",
              " {'id': '6', 'article': 'logical binary circuits'},\n",
              " {'id': '7',\n",
              "  'article': 'circuit electronic units using miniature densities elements electrical'},\n",
              " {'id': '8', 'article': 'explained circuit loss theory'},\n",
              " {'id': '9',\n",
              "  'article': 'transistor circuit design using circuits nonlinear binary adder switching'},\n",
              " {'id': '10', 'article': 'switching microwave'}]"
            ]
          },
          "metadata": {},
          "execution_count": 86
        }
      ]
    },
    {
      "cell_type": "markdown",
      "metadata": {
        "id": "qHHVreab6pBm"
      },
      "source": [
        "Article: Off the Beaten Path: Let’s Replace Term-Based\n",
        "Retrieval with k-NN Search"
      ]
    },
    {
      "cell_type": "code",
      "execution_count": 87,
      "metadata": {
        "colab": {
          "base_uri": "https://localhost:8080/"
        },
        "id": "MSXoiI8L6pBp",
        "outputId": "6295b77f-528f-40fa-d535-33ec395dde39"
      },
      "outputs": [
        {
          "output_type": "stream",
          "name": "stderr",
          "text": [
            "/usr/local/lib/python3.10/dist-packages/huggingface_hub/file_download.py:1132: FutureWarning: `resume_download` is deprecated and will be removed in version 1.0.0. Downloads always resume when possible. If you want to force a new download, use `force_download=True`.\n",
            "  warnings.warn(\n"
          ]
        }
      ],
      "source": [
        "# Charger un modèle pré-entraîné pour générer des embeddings (utilisant le GPU)\n",
        "model = SentenceTransformer('paraphrase-MiniLM-L6-v2')\n",
        "device = 'cuda' if torch.cuda.is_available() else 'cpu'\n",
        "model = model.to(device)"
      ]
    },
    {
      "cell_type": "code",
      "execution_count": 88,
      "metadata": {
        "id": "JHi63zmc6pBr"
      },
      "outputs": [],
      "source": [
        "# Convertir les documents en embeddings en utilisant le GPU\n",
        "def compute_embeddings(documents, model, batch_size=64):\n",
        "    embeddings = []\n",
        "    for i in range(0, len(documents), batch_size):\n",
        "        batch = documents[i:i + batch_size]\n",
        "        batch_embeddings = model.encode(batch, convert_to_tensor=True, device=device)\n",
        "        embeddings.append(batch_embeddings)\n",
        "    embeddings = torch.cat(embeddings, dim=0)\n",
        "    return embeddings.cpu().numpy()\n",
        "\n",
        "embeddings = compute_embeddings(documents, model)"
      ]
    },
    {
      "cell_type": "code",
      "source": [
        "dimension = embeddings.shape[1]\n",
        "\n",
        "# Build a HNSW flat index on the CPU\n",
        "cpu_index = faiss.IndexHNSWFlat(dimension, 32)  # 32 is the number of neighbors to consider\n",
        "\n",
        "# Add embeddings to the index\n",
        "cpu_index.add(embeddings)\n"
      ],
      "metadata": {
        "id": "k3HFl-VYDpnE"
      },
      "execution_count": 89,
      "outputs": []
    },
    {
      "cell_type": "code",
      "execution_count": 90,
      "metadata": {
        "colab": {
          "base_uri": "https://localhost:8080/"
        },
        "id": "EpRHZkF26pBv",
        "outputId": "500bafa9-ae43-4e8f-9232-4aaeb1b94523"
      },
      "outputs": [
        {
          "output_type": "stream",
          "name": "stdout",
          "text": [
            "Query: google\n",
            "Results:\n",
            "Document: {'id': '7066', 'article': 'information available'}, Distance: 75.23753356933594\n",
            "Document: {'id': '7817', 'article': 'pulses input effect amplifiers amplifier pulse function'}, Distance: 75.23811340332031\n",
            "Document: {'id': '8317', 'article': 'transmission infinite analysis'}, Distance: 75.97570037841797\n"
          ]
        }
      ],
      "source": [
        "# Fonction pour rechercher les k voisins les plus proches\n",
        "def search(query, k=5):\n",
        "    query_embedding = model.encode([query])\n",
        "    distances, indices = cpu_index.search(query_embedding, k)\n",
        "    results = [(documents[idx], distances[0][i]) for i, idx in enumerate(indices[0])]\n",
        "    return results\n",
        "\n",
        "# Exemple de recherche\n",
        "query = \"google\"\n",
        "results = search(query, k=3)\n",
        "\n",
        "print(\"Query:\", query)\n",
        "print(\"Results:\")\n",
        "for result, distance in results:\n",
        "    print(f\"Document: {result}, Distance: {distance}\")"
      ]
    },
    {
      "cell_type": "markdown",
      "source": [
        "# **Transformation de la fonction search pour l'évaluation**"
      ],
      "metadata": {
        "id": "9xv2S8-1YT9s"
      }
    },
    {
      "cell_type": "code",
      "source": [
        "qrels = {}\n",
        "for qrel in dataset.qrels_iter():\n",
        "    if qrel.query_id not in qrels:\n",
        "        qrels[qrel.query_id] = {}\n",
        "    qrels[qrel.query_id][qrel.doc_id] = qrel.relevance\n",
        "\n",
        "# Print qrels to verify its structure\n",
        "print(\"Qrels:\", qrels)"
      ],
      "metadata": {
        "colab": {
          "base_uri": "https://localhost:8080/"
        },
        "id": "c4RjXVrfXVwR",
        "outputId": "bd0b4ef8-8586-44ee-f1dc-fb38d78eafe2"
      },
      "execution_count": 91,
      "outputs": [
        {
          "output_type": "stream",
          "name": "stdout",
          "text": [
            "Qrels: {'1': {'1239': 1, '1502': 1, '4462': 1, '4569': 1, '5472': 1, '5502': 1, '6471': 1, '6480': 1, '6664': 1, '6824': 1, '7923': 1, '8150': 1, '8172': 1, '8277': 1, '9219': 1, '9859': 1, '9988': 1, '10081': 1, '10588': 1}, '2': {'414': 1, '1894': 1, '3785': 1, '4720': 1, '5894': 1, '6736': 1, '7113': 1, '7555': 1, '7749': 1, '7808': 1, '8241': 1, '8383': 1, '9112': 1, '9835': 1, '10802': 1}, '3': {'141': 1, '148': 1, '813': 1, '1610': 1, '2429': 1, '3059': 1, '3272': 1, '3398': 1, '3614': 1, '3688': 1, '3708': 1, '4437': 1, '4710': 1, '4725': 1, '4833': 1, '5476': 1, '5662': 1, '5856': 1, '5976': 1, '6351': 1, '6885': 1, '6974': 1, '7086': 1, '7177': 1, '7304': 1, '7571': 1, '8007': 1, '8232': 1, '8957': 1, '9289': 1, '10174': 1, '10484': 1, '10486': 1}, '4': {'2042': 1, '2180': 1, '3595': 1, '4057': 1, '7985': 1}, '5': {'775': 1, '922': 1, '3484': 1, '4740': 1}, '6': {'402': 1, '2546': 1, '4180': 1, '4419': 1, '5435': 1, '5437': 1, '5440': 1, '8099': 1, '10162': 1, '11178': 1}, '7': {'449': 1, '450': 1, '451': 1, '696': 1, '827': 1, '829': 1, '1354': 1, '2231': 1, '2724': 1, '3090': 1, '3209': 1, '3318': 1, '3666': 1, '3897': 1, '4471': 1, '4473': 1, '4474': 1, '4476': 1, '4561': 1, '4758': 1, '4759': 1, '5192': 1, '5292': 1, '5294': 1, '5379': 1, '5507': 1, '5588': 1, '5589': 1, '5698': 1, '5784': 1, '5903': 1, '5906': 1, '6183': 1, '6184': 1, '6187': 1, '6188': 1, '6189': 1, '6190': 1, '6288': 1, '6474': 1, '6565': 1, '6568': 1, '6569': 1, '6731': 1, '6831': 1, '6923': 1, '6924': 1, '7130': 1, '7410': 1, '7602': 1, '7740': 1, '7837': 1, '7838': 1, '7903': 1, '8034': 1, '8052': 1, '8591': 1, '8594': 1, '8595': 1, '8596': 1, '9448': 1, '9720': 1, '9721': 1, '9724': 1, '9726': 1, '9888': 1, '9889': 1, '9977': 1, '9979': 1, '9980': 1, '9982': 1, '10071': 1, '10225': 1, '10648': 1, '11344': 1}, '8': {'3774': 1}, '9': {'187': 1, '7014': 1}, '10': {'154': 1, '3531': 1, '5537': 1, '5855': 1, '6966': 1, '7262': 1, '7486': 1, '8011': 1, '9774': 1, '10167': 1, '10617': 1}, '11': {'4749': 1, '7655': 1, '7656': 1, '8219': 1}, '12': {'532': 1, '1727': 1, '2072': 1, '3284': 1, '3514': 1, '3615': 1, '3859': 1, '4087': 1, '4727': 1, '4733': 1, '5257': 1, '5567': 1, '5639': 1, '5654': 1, '6084': 1, '6086': 1, '6169': 1, '6356': 1, '6358': 1, '6705': 1, '6709': 1, '6803': 1, '6981': 1, '7100': 1, '7110': 1, '7488': 1, '7492': 1, '7813': 1, '7901': 1, '8108': 1, '8132': 1, '8251': 1, '8332': 1, '8458': 1, '8459': 1, '8467': 1, '9559': 1, '9733': 1, '9779': 1}, '13': {'281': 1, '1337': 1, '1732': 1, '2085': 1, '2209': 1, '2458': 1, '2459': 1, '2463': 1, '3297': 1, '3398': 1, '3522': 1, '3641': 1, '3852': 1, '3984': 1, '4080': 1, '4454': 1, '4627': 1, '5045': 1, '5276': 1, '5368': 1, '5477': 1, '5743': 1, '5873': 1, '5980': 1, '6088': 1, '6273': 1, '6530': 1, '6534': 1, '6548': 1, '6549': 1, '6622': 1, '6909': 1, '6974': 1, '7073': 1, '7111': 1, '7176': 1, '7262': 1, '7374': 1, '7702': 1, '7709': 1, '7823': 1, '7908': 1, '8024': 1, '8136': 1, '8448': 1, '8563': 1, '8567': 1, '8960': 1, '9183': 1, '9423': 1, '9433': 1, '9434': 1, '9698': 1, '10192': 1, '10363': 1, '10487': 1, '10634': 1, '11037': 1, '11053': 1}, '14': {'154': 1, '155': 1, '653': 1, '1317': 1, '1850': 1, '1852': 1, '2311': 1, '3272': 1, '3503': 1, '3523': 1, '3882': 1, '4205': 1, '4338': 1, '4424': 1, '4437': 1, '4718': 1, '4725': 1, '5480': 1, '5536': 1, '5561': 1, '5622': 1, '5660': 1, '5749': 1, '5856': 1, '5988': 1, '6079': 1, '6350': 1, '6530': 1, '6782': 1, '6794': 1, '6877': 1, '6887': 1, '6955': 1, '6974': 1, '7084': 1, '7086': 1, '7281': 1, '7290': 1, '7304': 1, '7342': 1, '7370': 1, '7375': 1, '7571': 1, '7690': 1, '7702': 1, '8124': 1, '8463': 1, '8563': 1, '9233': 1, '9697': 1, '9698': 1, '9794': 1, '9951': 1, '10043': 1, '10338': 1, '11314': 1}, '15': {'260': 1, '417': 1, '1304': 1, '1829': 1, '1848': 1, '2064': 1, '3065': 1, '3276': 1, '3483': 1, '3719': 1, '3963': 1, '4331': 1, '4821': 1, '4930': 1, '5773': 1, '5849': 1, '5858': 1, '5863': 1, '6441': 1, '6520': 1, '6763': 1, '7297': 1, '7699': 1, '7705': 1, '8197': 1, '8245': 1, '8329': 1, '8435': 1, '9542': 1, '9790': 1, '10025': 1, '10625': 1}, '16': {'648': 1, '3158': 1, '3515': 1, '3882': 1, '4087': 1, '4616': 1, '4630': 1, '5259': 1, '5267': 1, '6085': 1, '6141': 1, '6239': 1, '6815': 1, '6884': 1, '6895': 1, '7092': 1, '7158': 1, '7469': 1, '7560': 1, '7699': 1, '8241': 1, '8245': 1, '9199': 1, '9685': 1, '10319': 1, '11310': 1}, '17': {'91': 1, '93': 1, '94': 1, '119': 1, '343': 1, '496': 1, '742': 1, '1128': 1, '1671': 1, '2876': 1, '4151': 1, '5226': 1, '9247': 1, '9481': 1, '9486': 1, '9729': 1, '9741': 1, '10835': 1, '10836': 1, '10979': 1, '10981': 1, '10983': 1, '11128': 1}, '18': {'93': 1, '345': 1, '739': 1, '1290': 1, '2121': 1, '4150': 1, '4685': 1, '4883': 1, '5226': 1, '5709': 1, '6315': 1, '8798': 1, '9138': 1}, '19': {'84': 1, '90': 1, '342': 1, '477': 1, '736': 1, '738': 1, '875': 1, '1004': 1, '1407': 1, '1670': 1, '1799': 1, '1908': 1, '2112': 1, '2895': 1, '3444': 1, '4161': 1, '4510': 1, '7044': 1, '7615': 1, '8757': 1, '9053': 1, '10001': 1, '10693': 1, '11127': 1}, '20': {'893': 1, '2506': 1, '3446': 1, '3569': 1, '4796': 1, '4797': 1, '5508': 1, '5938': 1, '5939': 1, '6211': 1, '6218': 1, '6221': 1, '6228': 1, '6491': 1, '7059': 1, '7060': 1, '7426': 1, '7853': 1, '8177': 1, '8603': 1, '8621': 1, '10588': 1, '10686': 1}, '21': {'77': 1, '478': 1, '494': 1, '577': 1, '621': 1, '757': 1, '874': 1, '905': 1, '907': 1, '995': 1, '996': 1, '997': 1, '1263': 1, '1274': 1, '1907': 1, '2013': 1, '2109': 1, '2118': 1, '2146': 1, '2153': 1, '2900': 1, '2905': 1, '3018': 1, '3116': 1, '3918': 1, '4508': 1, '5099': 1, '5326': 1, '5596': 1, '5713': 1, '5925': 1, '6302': 1, '7518': 1, '7864': 1, '8178': 1, '8621': 1, '8769': 1, '9156': 1, '10130': 1, '10138': 1, '10279': 1, '10590': 1, '10715': 1, '10716': 1, '10871': 1, '10962': 1, '11153': 1, '11154': 1, '11264': 1, '11411': 1}, '22': {'91': 1, '94': 1, '95': 1, '483': 1, '608': 1, '736': 1, '876': 1, '879': 1, '912': 1, '1004': 1, '1262': 1, '1264': 1, '1404': 1, '1556': 1, '1695': 1, '2032': 1, '2124': 1, '2407': 1, '2505': 1, '2538': 1, '2864': 1, '3445': 1, '3446': 1, '3922': 1, '4035': 1, '4166': 1, '4395': 1, '4508': 1, '5535': 1, '5940': 1, '5943': 1, '6026': 1, '6027': 1, '6221': 1, '6403': 1, '6408': 1, '6588': 1, '6593': 1, '7426': 1, '7427': 1, '7524': 1, '7538': 1, '8083': 1, '8621': 1, '9025': 1, '9053': 1, '9054': 1, '9246': 1, '9247': 1, '9248': 1, '9249': 1, '9394': 1, '9490': 1, '9627': 1, '10281': 1, '10423': 1, '10447': 1, '10554': 1, '10578': 1, '10686': 1, '10832': 1, '11131': 1, '11388': 1, '11394': 1, '11410': 1}, '23': {'81': 1, '473': 1, '3113': 1, '3799': 1, '4145': 1, '4497': 1, '4577': 1, '4784': 1, '4882': 1, '5313': 1, '5397': 1, '5593': 1, '5702': 1, '6303': 1, '6305': 1, '6659': 1, '7609': 1, '7847': 1, '8281': 1, '10962': 1}, '24': {'77': 1, '471': 1, '998': 1, '1244': 1, '1395': 1, '1788': 1, '1789': 1, '1790': 1, '1794': 1, '2380': 1, '3334': 1, '3354': 1, '3437': 1, '3438': 1, '3554': 1, '4577': 1, '4784': 1, '4785': 1, '5519': 1, '5593': 1, '5702': 1, '5703': 1, '6304': 1, '6305': 1, '6306': 1, '6485': 1, '6657': 1, '6663': 1, '7608': 1, '8069': 1, '8070': 1, '8179': 1, '8396': 1, '8399': 1, '8897': 1, '9135': 1, '9908': 1, '10257': 1, '10818': 1}, '25': {'80': 1, '88': 1, '328': 1, '329': 1, '1011': 1, '1128': 1, '1265': 1, '1395': 1, '1650': 1, '1663': 1, '1671': 1, '1796': 1, '1797': 1, '2016': 1, '2503': 1, '2628': 1, '2632': 1, '3111': 1, '3113': 1, '3351': 1, '3807': 1, '3918': 1, '4007': 1, '4028': 1, '4136': 1, '4138': 1, '4380': 1, '4881': 1, '5305': 1, '5328': 1, '5508': 1, '5594': 1, '5702': 1, '5713': 1, '5800': 1, '5907': 1, '5923': 1, '6300': 1, '6303': 1, '6305': 1, '6398': 1, '7029': 1, '7226': 1, '7518': 1, '7609': 1, '7613': 1, '7969': 1, '8165': 1, '8175': 1, '8179': 1, '8386': 1, '8396': 1, '8602': 1, '8617': 1, '8621': 1, '8741': 1, '8910': 1, '9135': 1, '9729': 1, '9907': 1, '10229': 1, '10523': 1, '10556': 1, '10835': 1, '10959': 1, '10960': 1, '10966': 1, '10980': 1, '11016': 1, '11108': 1, '11112': 1, '11235': 1, '11381': 1}, '26': {'80': 1, '81': 1, '88': 1, '328': 1, '329': 1, '580': 1, '1011': 1, '1395': 1, '1663': 1, '1789': 1, '1794': 1, '2016': 1, '2628': 1, '2632': 1, '3111': 1, '3351': 1, '3807': 1, '3917': 1, '4028': 1, '4881': 1, '5328': 1, '5329': 1, '5594': 1, '5702': 1, '5713': 1, '5800': 1, '5923': 1, '6299': 1, '6301': 1, '6303': 1, '6304': 1, '6305': 1, '6398': 1, '6485': 1, '6663': 1, '6842': 1, '7028': 1, '7029': 1, '7224': 1, '7226': 1, '7613': 1, '7969': 1, '8078': 1, '8179': 1, '8396': 1, '8741': 1, '8929': 1, '9135': 1, '9907': 1, '10958': 1, '10959': 1, '11108': 1, '11235': 1}, '27': {'124': 1, '914': 1, '1048': 1, '1154': 1, '1703': 1, '2534': 1, '2779': 1, '3132': 1, '3590': 1, '3825': 1, '3830': 1, '5224': 1, '5226': 1, '5335': 1, '5622': 1, '5623': 1, '5947': 1, '5948': 1, '6855': 1, '7774': 1, '7869': 1, '8517': 1, '8789': 1, '9160': 1, '9268': 1, '9754': 1, '9847': 1, '9848': 1}, '28': {'4720': 1, '5472': 1, '5583': 1, '5850': 1, '7482': 1, '7515': 1, '8230': 1, '8441': 1}, '29': {'1116': 1, '1403': 1, '3004': 1, '3343': 1, '4143': 1, '5394': 1, '6018': 1, '8398': 1, '8636': 1, '9133': 1, '9840': 1}, '30': {'1284': 1, '3464': 1, '5304': 1, '8782': 1, '9376': 1, '9511': 1, '10290': 1}, '31': {'1246': 1, '1389': 1, '2742': 1, '3553': 1, '4135': 1, '4492': 1, '4875': 1, '8615': 1, '8895': 1, '10095': 1, '11213': 1}, '32': {'914': 1, '1703': 1, '1705': 1, '1822': 1, '1932': 1, '4297': 1, '4802': 1, '5226': 1, '5535': 1, '8790': 1, '8944': 1, '9160': 1, '10456': 1}, '33': {'2768': 1, '4584': 1, '6134': 1, '6223': 1, '7236': 1, '7863': 1, '9050': 1, '11262': 1}, '34': {'362': 1, '363': 1, '2413': 1, '2775': 1, '4369': 1, '5070': 1, '5530': 1, '9753': 1, '11263': 1}, '35': {'115': 1, '369': 1, '616': 1, '617': 1, '1429': 1, '1558': 1, '1571': 1, '2144': 1, '2403': 1, '2900': 1, '2908': 1, '3021': 1, '3124': 1, '3455': 1, '3570': 1, '3703': 1, '3817': 1, '3922': 1, '4154': 1, '4287': 1, '4510': 1, '5945': 1, '6499': 1, '8187': 1, '8513': 1, '9036': 1, '10120': 1, '10574': 1, '10854': 1, '10996': 1}, '36': {'2674': 1, '5955': 1, '6029': 1, '6940': 1, '8321': 1, '10302': 1, '10589': 1, '10654': 1}, '37': {'86': 1, '1007': 1, '1008': 1, '1124': 1, '1251': 1, '1252': 1, '1402': 1, '2113': 1, '2256': 1, '3441': 1, '5198': 1, '8783': 1, '8909': 1, '9001': 1, '9132': 1, '9221': 1, '9484': 1, '9485': 1, '9636': 1, '10271': 1, '10548': 1, '10973': 1, '10974': 1, '11246': 1, '11383': 1}, '38': {'213': 1, '332': 1, '598': 1, '1248': 1, '2253': 1, '2648': 1, '2744': 1, '8736': 1, '10103': 1, '10826': 1, '10828': 1, '10969': 1}, '39': {'909': 1, '7063': 1, '8295': 1, '9758': 1, '11277': 1}, '40': {'213': 1, '330': 1, '475': 1, '476': 1, '579': 1, '581': 1, '863': 1, '1003': 1, '1783': 1, '2254': 1, '2744': 1, '2745': 1, '2746': 1, '3228': 1, '3802': 1, '4153': 1, '4874': 1, '5917': 1, '8732': 1, '8901': 1, '9018': 1, '9363': 1, '9482': 1, '10112': 1, '10565': 1, '10566': 1, '10967': 1, '10969': 1, '11121': 1}, '41': {'145': 1, '399': 1, '515': 1, '516': 1, '517': 1, '773': 1, '775': 1, '923': 1, '924': 1, '951': 1, '1055': 1, '1195': 1, '1307': 1, '1597': 1, '1712': 1, '1714': 1, '2176': 1, '2180': 1, '2284': 1, '2291': 1, '2428': 1, '2679': 1, '2790': 1, '2930': 1, '2938': 1, '2939': 1, '3037': 1, '3141': 1, '3373': 1, '3375': 1, '3599': 1, '3939': 1, '3945': 1, '3953': 1, '3954': 1, '4187': 1, '4311': 1, '4313': 1, '4594': 1, '4596': 1, '4709': 1, '4811': 1, '5016': 1, '5244': 1, '5428': 1, '5436': 1, '5446': 1, '5452': 1, '6048': 1, '6049': 1, '6050': 1, '6236': 1, '7876': 1, '8098': 1, '8218': 1, '8307': 1, '8310': 1, '8424': 1, '8527': 1, '8800': 1, '8805': 1, '8810': 1, '8811': 1, '8818': 1, '9062': 1, '9070': 1, '9073': 1, '9165': 1, '9168': 1, '9270': 1, '9403': 1, '9534': 1, '9930': 1, '10021': 1, '10023': 1, '10157': 1, '10472': 1, '10614': 1, '10615': 1, '11049': 1, '11165': 1, '11168': 1, '11170': 1, '11293': 1}, '42': {'263': 1, '1713': 1, '2423': 1, '2427': 1, '2450': 1, '2455': 1, '2933': 1, '3372': 1, '3719': 1, '3948': 1, '4062': 1, '4309': 1, '4810': 1, '5018': 1, '5137': 1, '5150': 1, '5200': 1, '5444': 1, '5633': 1, '5686': 1, '5839': 1, '5841': 1, '6045': 1, '6147': 1, '6424': 1, '6428': 1, '6514': 1, '6515': 1, '7789': 1, '8101': 1, '8422': 1, '9926': 1, '9928': 1, '10368': 1, '11024': 1, '11034': 1}, '43': {'2450': 1, '3372': 1, '4064': 1, '4309': 1, '5832': 1, '5851': 1, '6232': 1}, '44': {'2041': 1, '2928': 1, '2937': 1, '3595': 1, '5430': 1, '6512': 1, '7989': 1, '8099': 1}, '45': {'3607': 1, '3716': 1, '3941': 1, '4195': 1, '10324': 1}, '46': {'147': 1, '402': 1, '1055': 1, '1586': 1, '2546': 1, '2788': 1, '2817': 1, '3140': 1, '3143': 1, '3145': 1, '3373': 1, '3485': 1, '3599': 1, '3720': 1, '3939': 1, '3940': 1, '4054': 1, '4057': 1, '4059': 1, '4180': 1, '4311': 1, '4312': 1, '4549': 1, '4596': 1, '4709': 1, '5237': 1, '5431': 1, '5435': 1, '5733': 1, '6052': 1, '6237': 1, '6337': 1, '6614': 1, '7287': 1, '7674': 1, '7877': 1, '7988': 1, '8099': 1, '8113': 1, '8426': 1, '8436': 1, '8531': 1, '8804': 1, '8806': 1, '10473': 1, '11178': 1, '11321': 1}, '47': {'133': 1, '667': 1, '812': 1, '1299': 1, '1487': 1, '1626': 1, '1972': 1, '2082': 1, '2084': 1, '2465': 1, '3043': 1, '3076': 1, '3188': 1, '3530': 1, '3754': 1, '3755': 1, '4103': 1, '4104': 1, '4446': 1, '5887': 1, '6550': 1, '6908': 1, '7818': 1, '7913': 1, '8025': 1, '8466': 1, '8467': 1, '10364': 1, '10365': 1, '11053': 1, '11326': 1, '11327': 1}, '48': {'776': 1, '1934': 1, '2178': 1}, '49': {'662': 1, '1159': 1, '2667': 1, '3536': 1, '4209': 1, '5349': 1, '10046': 1}, '50': {'9864': 1}, '51': {'11': 1, '5030': 1, '5551': 1, '6245': 1, '6246': 1, '6777': 1, '6779': 1, '6878': 1, '7074': 1, '7464': 1, '7488': 1, '7717': 1, '7798': 1, '8223': 1, '8535': 1, '8677': 1}, '52': {'515': 1, '516': 1, '636': 1, '811': 1, '1307': 1, '2050': 1, '2424': 1, '2679': 1, '3599': 1, '8647': 1, '8810': 1, '9070': 1, '9277': 1, '9278': 1, '9316': 1, '9403': 1, '10023': 1, '10163': 1, '10325': 1, '10614': 1, '10616': 1, '10618': 1, '10876': 1, '11030': 1, '11170': 1}, '53': {'957': 1, '2815': 1, '3648': 1, '4100': 1, '5056': 1, '5178': 1, '7019': 1, '7794': 1, '8561': 1, '8569': 1, '9406': 1, '9806': 1, '9877': 1, '9967': 1, '9968': 1, '10033': 1, '11030': 1}, '54': {'143': 1, '924': 1, '1455': 1, '1458': 1, '3610': 1, '8021': 1, '8214': 1, '8652': 1, '8951': 1, '10745': 1}, '55': {'30': 1, '161': 1, '530': 1, '949': 1, '2076': 1, '3147': 1, '3162': 1, '3743': 1, '4209': 1, '4953': 1, '6452': 1, '8316': 1, '10479': 1}, '56': {'45': 1, '144': 1, '439': 1, '442': 1, '541': 1, '676': 1, '678': 1, '808': 1, '1087': 1, '1091': 1, '1165': 1, '1195': 1, '1200': 1, '1201': 1, '1202': 1, '1497': 1, '2342': 1, '2793': 1, '3185': 1, '3191': 1, '3194': 1, '3295': 1, '3531': 1, '3761': 1, '3871': 1, '3988': 1, '4100': 1, '4488': 1, '8686': 1, '8973': 1, '9091': 1, '9314': 1, '9319': 1, '9578': 1, '10370': 1, '10776': 1, '11204': 1, '11205': 1, '11336': 1}, '57': {'1049': 1, '3708': 1, '4183': 1, '4412': 1, '4614': 1, '4705': 1, '6138': 1, '6947': 1, '9301': 1, '11304': 1}, '58': {'4705': 1, '5985': 1, '6332': 1, '6535': 1, '6600': 1, '6857': 1, '7401': 1, '7503': 1, '7763': 1, '8016': 1}, '59': {'9524': 1}, '60': {'10182': 1, '10503': 1, '10630': 1}, '61': {'91': 1, '94': 1, '118': 1, '743': 1, '893': 1, '1027': 1, '1040': 1, '1764': 1, '1996': 1, '2155': 1, '2280': 1, '2407': 1, '2416': 1, '3771': 1, '4148': 1, '4369': 1, '5785': 1, '6038': 1, '6221': 1, '6222': 1, '6315': 1, '6502': 1, '7065': 1, '7145': 1, '7239': 1, '7427': 1, '7442': 1, '7849': 1, '8294': 1, '8518': 1, '8768': 1, '8792': 1, '9054': 1, '9157': 1, '9246': 1, '9490': 1, '9513': 1, '9728': 1, '10686': 1, '10869': 1, '11277': 1, '11279': 1}, '62': {'6': 1, '1619': 1, '1863': 1, '1966': 1, '2425': 1, '2695': 1, '2698': 1, '4735': 1, '5169': 1, '5645': 1, '6776': 1, '6778': 1, '7267': 1, '7464': 1, '7674': 1, '8341': 1, '9298': 1, '10357': 1, '11171': 1, '11321': 1, '11322': 1}, '63': {'4080': 1, '5562': 1, '5661': 1, '5860': 1, '5979': 1, '6530': 1, '6791': 1, '6792': 1, '6955': 1, '6974': 1, '7199': 1, '7304': 1, '7375': 1, '7694': 1, '8002': 1, '8550': 1, '8551': 1, '8827': 1, '8957': 1, '9288': 1, '9418': 1, '9698': 1, '9951': 1, '10039': 1, '10175': 1, '10339': 1, '10486': 1, '10755': 1, '10756': 1, '11311': 1}, '64': {'552': 1, '982': 1, '983': 1, '994': 1, '2732': 1, '3998': 1, '5693': 1, '6119': 1, '6375': 1, '6720': 1, '6822': 1, '6916': 1, '7003': 1, '7006': 1, '7215': 1, '7319': 1, '7729': 1, '8062': 1, '8146': 1, '9821': 1, '10785': 1, '10800': 1}, '65': {'3785': 1, '5470': 1, '6783': 1, '7565': 1}, '66': {'308': 1, '459': 1, '3332': 1, '3791': 1, '4017': 1, '5782': 1, '6565': 1, '7747': 1}, '67': {'313': 1, '1379': 1, '1882': 1, '2225': 1, '3538': 1, '4119': 1, '5086': 1, '5498': 1, '5904': 1, '5915': 1, '6642': 1, '6732': 1, '7324': 1, '7739': 1, '8386': 1, '8699': 1, '8904': 1, '8905': 1, '9109': 1, '9673': 1, '9825': 1, '10533': 1, '10784': 1, '10832': 1, '11209': 1, '11210': 1, '11241': 1}, '68': {'961': 1, '1085': 1, '1325': 1, '3065': 1, '3472': 1, '3733': 1, '3835': 1, '3982': 1, '4190': 1, '4303': 1, '4350': 1, '4355': 1, '4621': 1, '5044': 1, '5367': 1, '5879': 1, '6096': 1, '6513': 1, '6602': 1, '6714': 1, '6903': 1, '6973': 1, '7107': 1, '7258': 1, '7262': 1, '8005': 1, '8348': 1, '8449': 1, '9420': 1, '9700': 1, '9797': 1, '9921': 1, '10045': 1}, '69': {'1070': 1, '1954': 1, '3504': 1, '3523': 1, '3615': 1, '4438': 1, '4612': 1, '5044': 1, '5753': 1, '6349': 1, '6549': 1, '6974': 1, '10043': 1, '11312': 1}, '70': {'4341': 1, '6899': 1, '8194': 1, '9953': 1, '10758': 1}, '71': {'143': 1, '643': 1, '1176': 1, '1182': 1, '1862': 1, '2801': 1, '3281': 1, '3978': 1, '4414': 1, '4453': 1, '4549': 1, '6263': 1, '7074': 1, '7102': 1, '7296': 1, '7464': 1, '7717': 1, '7913': 1, '8968': 1, '9537': 1, '11044': 1}, '72': {'181': 1, '439': 1, '541': 1, '543': 1, '785': 1, '1205': 1, '1607': 1, '1985': 1, '2091': 1, '2213': 1, '2343': 1, '2793': 1, '3056': 1, '3876': 1, '3988': 1, '4108': 1, '5031': 1, '5267': 1, '5493': 1, '5888': 1, '6370': 1, '6884': 1, '7465': 1, '8685': 1, '9092': 1, '9197': 1, '9576': 1, '10063': 1, '10065': 1, '10512': 1, '10637': 1, '10640': 1}, '73': {'169': 1, '427': 1, '1481': 1, '1617': 1, '1960': 1, '4442': 1, '4840': 1, '6899': 1, '7102': 1, '7196': 1, '7293': 1, '7580': 1, '8017': 1, '8019': 1, '8558': 1, '9202': 1, '10352': 1, '11044': 1}, '74': {'47': 1, '540': 1, '668': 1, '957': 1, '1638': 1, '1640': 1, '1979': 1, '2712': 1, '2713': 1, '2793': 1, '3301': 1, '3533': 1, '4108': 1, '4449': 1, '5493': 1, '6460': 1, '8684': 1, '8687': 1, '9079': 1, '9316': 1, '9406': 1, '9424': 1, '9436': 1, '9569': 1, '9967': 1, '9968': 1, '10063': 1, '10375': 1, '10514': 1, '10763': 1, '10776': 1, '10778': 1}, '75': {'275': 1, '782': 1, '935': 1, '1313': 1, '1321': 1, '1322': 1, '1469': 1, '1610': 1, '2194': 1, '2306': 1, '2308': 1, '2559': 1, '3183': 1, '3391': 1, '3392': 1, '3488': 1, '3860': 1, '4196': 1, '4204': 1, '4342': 1, '4610': 1, '4631': 1, '4714': 1, '4836': 1, '5470': 1, '5649': 1, '5652': 1, '6159': 1, '6341': 1, '6790': 1, '6882': 1, '6915': 1, '7076': 1, '7171': 1, '7262': 1, '7269': 1, '7284': 1, '7565': 1, '7700': 1, '7804': 1, '8118': 1, '8227': 1, '8322': 1, '8325': 1, '8329': 1, '8446': 1, '8546': 1, '8661': 1, '8813': 1, '8821': 1, '9083': 1, '9542': 1, '9555': 1, '9695': 1, '9700': 1, '9789': 1, '9795': 1, '9801': 1, '10057': 1, '10170': 1, '10190': 1, '11034': 1, '11037': 1, '11059': 1, '11187': 1, '11315': 1}, '76': {'2819': 1, '3066': 1, '3756': 1, '5463': 1, '5646': 1, '7580': 1, '7674': 1, '9789': 1, '10319': 1}, '77': {'450': 1, '451': 1, '2096': 1, '2724': 1, '3090': 1, '3318': 1, '3897': 1, '5294': 1, '5587': 1, '5903': 1, '6183': 1, '6187': 1, '6189': 1, '6190': 1, '6287': 1, '6386': 1, '6475': 1, '6568': 1, '7602': 1, '8156': 1, '8158': 1, '8594': 1, '10071': 1, '10648': 1}, '78': {'654': 1, '939': 1, '1474': 1, '1475': 1, '2315': 1, '2955': 1, '3394': 1, '3970': 1, '4537': 1, '5661': 1, '5859': 1, '6974': 1, '7702': 1, '7908': 1, '8323': 1, '9087': 1, '9183': 1, '9290': 1, '9421': 1, '9423': 1, '10174': 1, '10485': 1, '10757': 1, '11185': 1, '11309': 1}, '79': {'2275': 1, '2532': 1, '3020': 1, '3349': 1, '3455': 1, '3931': 1, '4500': 1, '4667': 1, '4993': 1, '5525': 1, '5941': 1, '6223': 1, '6227': 1, '7332': 1, '7531': 1, '7619': 1, '7769': 1, '7975': 1, '8090': 1, '8408': 1, '8508': 1, '9034': 1, '9053': 1, '9372': 1, '10019': 1, '10136': 1, '10724': 1, '10837': 1, '11126': 1}, '80': {'3246': 1, '4101': 1, '6521': 1, '7158': 1, '7249': 1, '7594': 1, '7657': 1, '7687': 1, '8094': 1, '8219': 1, '8843': 1, '9933': 1, '11288': 1}, '81': {'1060': 1, '8116': 1, '9936': 1, '11173': 1}, '82': {'1467': 1, '2327': 1, '2445': 1, '3611': 1, '4346': 1, '4413': 1, '5650': 1, '5849': 1, '6332': 1, '6416': 1, '6783': 1, '6894': 1, '6909': 1, '7173': 1, '7340': 1, '8198': 1, '8326': 1, '8357': 1, '9931': 1, '10315': 1, '11034': 1, '11042': 1}, '83': {'810': 1, '959': 1, '1487': 1, '1627': 1, '1977': 1, '2672': 1, '2822': 1, '3523': 1, '3641': 1, '4081': 1, '4090': 1, '4108': 1, '4622': 1, '4629': 1, '5571': 1, '6552': 1, '6803': 1, '6995': 1, '7073': 1, '7394': 1, '8251': 1, '8466': 1, '9191': 1, '9707': 1, '10213': 1, '11052': 1}, '84': {'129': 1, '918': 1, '2685': 1, '3708': 1, '3710': 1, '4183': 1, '4412': 1, '4413': 1, '4705': 1, '5441': 1, '5722': 1, '5823': 1, '6138': 1, '6416': 1, '6422': 1, '6600': 1, '6857': 1, '6947': 1, '7647': 1, '7762': 1, '9537': 1, '10149': 1, '10457': 1}, '85': {'784': 1, '1741': 1, '3278': 1, '5262': 1, '6449': 1, '7284': 1, '7474': 1, '10630': 1}, '86': {'143': 1, '959': 1, '1487': 1, '2337': 1, '2465': 1, '2706': 1, '2822': 1, '3641': 1, '3754': 1, '4446': 1, '4630': 1, '5275': 1, '5367': 1, '6056': 1, '6267': 1, '6716': 1, '7394': 1, '8025': 1, '8108': 1, '8138': 1}, '87': {'636': 1, '2565': 1, '3087': 1, '3314': 1, '3320': 1, '3425': 1, '6931': 1}, '88': {'1107': 1, '2103': 1, '4368': 1, '5279': 1, '6642': 1, '7123': 1, '7326': 1, '7714': 1, '8384': 1, '8579': 1}, '89': {'810': 1, '2286': 1, '4967': 1, '5233': 1, '9581': 1, '10463': 1, '10889': 1, '10892': 1, '10901': 1, '11022': 1, '11194': 1, '11301': 1}, '90': {'180': 1, '505': 1, '1348': 1, '2009': 1, '2718': 1, '3084': 1, '3318': 1, '3719': 1, '4115': 1, '4365': 1, '4471': 1, '4561': 1, '4562': 1, '4643': 1, '4749': 1, '4751': 1, '4967': 1, '5687': 1, '6142': 1, '6581': 1, '6726': 1, '7011': 1, '7325': 1, '7603': 1, '8159': 1, '8418': 1, '9067': 1, '9204': 1, '10461': 1}, '91': {'974': 1, '1059': 1, '1348': 1, '1462': 1, '2676': 1, '2854': 1, '2942': 1, '3318': 1, '3887': 1, '4365': 1, '4376': 1, '4751': 1, '4862': 1, '4969': 1, '5284': 1, '5588': 1, '6182': 1, '6282': 1, '6287': 1, '6519': 1, '6581': 1, '7010': 1, '7482': 1, '7594': 1, '7602': 1, '7928': 1, '8158': 1, '8219': 1, '8230': 1, '8591': 1, '9001': 1, '9224': 1, '9538': 1, '9826': 1, '10881': 1}, '92': {'207': 1, '2731': 1, '4851': 1, '4978': 1, '5516': 1, '6207': 1, '8295': 1, '8381': 1, '8386': 1, '9055': 1, '9292': 1, '10234': 1, '10682': 1, '10869': 1}, '93': {'182': 1, '443': 1, '532': 1, '788': 1, '1080': 1, '1156': 1, '1461': 1, '1964': 1, '2072': 1, '3072': 1, '3404': 1, '3514': 1, '3629': 1, '3859': 1, '3860': 1, '4087': 1, '4102': 1, '4442': 1, '4617': 1, '4618': 1, '5049': 1, '5259': 1, '5356': 1, '5756': 1, '5987': 1, '6091': 1, '6610': 1, '6705': 1, '6803': 1, '6804': 1, '7478': 1, '7488': 1, '7580': 1, '7676': 1, '7999': 1, '8129': 1, '8133': 1, '8459': 1, '8834': 1, '9429': 1, '9779': 1, '9875': 1, '9956': 1, '10497': 1, '11191': 1, '11318': 1}}\n"
          ]
        }
      ]
    },
    {
      "cell_type": "code",
      "source": [
        "def search(query, k=5):\n",
        "    query_embedding = model.encode([query])\n",
        "    distances, indices = cpu_index.search(query_embedding, k)\n",
        "    results = {\n",
        "        str(doc_id): float(distances[0][i]) for i, doc_id in enumerate(indices[0])\n",
        "    }\n",
        "    return results\n",
        "print(search(\"google\",5))"
      ],
      "metadata": {
        "colab": {
          "base_uri": "https://localhost:8080/"
        },
        "id": "wyvLUf7BXm7H",
        "outputId": "c59a96af-72e4-47b7-c57a-db10f247822b"
      },
      "execution_count": 92,
      "outputs": [
        {
          "output_type": "stream",
          "name": "stdout",
          "text": [
            "{'7065': 75.23753356933594, '7816': 75.23811340332031, '8316': 75.97570037841797, '6816': 76.2222900390625, '7817': 76.47123718261719}\n"
          ]
        }
      ]
    },
    {
      "cell_type": "code",
      "source": [
        "# Perform search and evaluate for each query in the dataset\n",
        "run = {}\n",
        "for query in dataset.queries_iter():\n",
        "    query_id = query.query_id\n",
        "    query_text = query.text\n",
        "    results = search(query_text, k=5)\n",
        "    run[query_id] = results\n",
        "\n",
        "# Print run to verify its structure\n",
        "print(\"Run:\", run)\n"
      ],
      "metadata": {
        "colab": {
          "base_uri": "https://localhost:8080/"
        },
        "id": "PFfA9cipXu8r",
        "outputId": "0120f4dc-c7f4-4c9e-fbfd-fd3da8ccfd00"
      },
      "execution_count": 93,
      "outputs": [
        {
          "output_type": "stream",
          "name": "stdout",
          "text": [
            "Run: {'1': {'10057': 59.56406784057617, '9547': 60.27980422973633, '9519': 60.564483642578125, '9557': 61.01860046386719, '9565': 62.32025146484375}, '2': {'9709': 56.01290512084961, '9757': 56.601070404052734, '10257': 56.70231628417969, '10284': 56.93160629272461, '9457': 57.18441390991211}, '3': {'3709': 53.807777404785156, '3784': 53.928932189941406, '5709': 54.21758270263672, '5065': 54.24217987060547, '4674': 54.44663619995117}, '4': {'7031': 63.74185562133789, '9832': 63.92003631591797, '9715': 66.17645263671875, '9332': 66.59835052490234, '9732': 66.76446533203125}, '5': {'2009': 64.98783874511719, '2002': 67.74758911132812, '2012': 69.640625, '3784': 70.51730346679688, '9715': 70.66012573242188}, '6': {'10107': 57.65153503417969, '10197': 57.69532012939453, '6832': 58.686378479003906, '10183': 58.68714904785156, '10188': 58.717247009277344}, '7': {'3822': 65.65267944335938, '3784': 65.75665283203125, '4784': 66.2749252319336, '3984': 67.447509765625, '3884': 67.74113464355469}, '8': {'5709': 82.1788101196289, '9709': 82.20689392089844, '5484': 82.60688018798828, '5309': 83.13024139404297, '9765': 83.35689544677734}, '9': {'9447': 63.70174789428711, '7047': 63.88927459716797, '9747': 63.9215087890625, '5484': 63.94268035888672, '9757': 63.97355651855469}, '10': {'7065': 56.96473693847656, '10065': 57.66740417480469, '7057': 58.41149139404297, '10057': 58.4533805847168, '6065': 58.467376708984375}, '11': {'10246': 70.8134765625, '9030': 71.71797943115234, '9439': 72.60965728759766, '9721': 72.61181640625, '9521': 73.47116088867188}, '12': {'6809': 61.0189208984375, '6609': 61.63670349121094, '6679': 61.959571838378906, '7409': 62.03179931640625, '5709': 62.107479095458984}, '13': {'7321': 60.153995513916016, '3684': 60.469451904296875, '3709': 61.48548126220703, '3784': 62.17463302612305, '5065': 62.25685501098633}, '14': {'3784': 48.19133758544922, '3884': 48.86530303955078, '3874': 49.87945556640625, '7057': 50.23286437988281, '3684': 50.645713806152344}, '15': {'9709': 62.102386474609375, '7009': 62.29719543457031, '7065': 62.73218536376953, '7309': 63.514617919921875, '7057': 64.19232177734375}, '16': {'5865': 53.63801574707031, '5709': 54.45576858520508, '5765': 54.61866760253906, '3709': 55.62355041503906, '5165': 55.91049575805664}, '17': {'2004': 56.026763916015625, '2009': 56.83267593383789, '2003': 56.87818145751953, '2002': 58.76099395751953, '2005': 59.148231506347656}, '18': {'2012': 68.17864990234375, '2009': 68.7474365234375, '5817': 69.265625, '2010': 70.26907348632812, '6609': 70.38954162597656}, '19': {'10517': 70.33332824707031, '1974': 70.85072326660156, '9757': 71.5263442993164, '10518': 72.48489379882812, '10557': 72.59791564941406}, '20': {'3709': 56.71257400512695, '3784': 57.09717559814453, '3684': 57.65806198120117, '2002': 58.18449783325195, '2003': 59.05480194091797}, '21': {'2003': 63.11690902709961, '2012': 63.83287048339844, '2002': 63.964324951171875, '2009': 64.09904479980469, '2004': 64.18852233886719}, '22': {'2010': 67.18033599853516, '2009': 67.23811340332031, '2012': 67.76708221435547, '2005': 68.73320770263672, '2006': 69.01421356201172}, '23': {'10457': 60.27736282348633, '10409': 60.548641204833984, '9257': 61.17963409423828, '9200': 61.63806915283203, '9457': 62.058109283447266}, '24': {'8429': 63.083648681640625, '9709': 63.713111877441406, '10517': 63.89995574951172, '8329': 64.25569152832031, '10509': 65.27142333984375}, '25': {'2002': 62.43583679199219, '2003': 63.25111389160156, '2009': 63.94659423828125, '10457': 65.29090881347656, '9257': 65.79232788085938}, '26': {'2002': 70.19581604003906, '2009': 72.76760864257812, '5309': 73.23930358886719, '5709': 73.67711639404297, '2012': 73.86582946777344}, '27': {'9684': 71.61373901367188, '8439': 72.03484344482422, '9439': 72.13179779052734, '2009': 72.31954193115234, '10284': 72.35174560546875}, '28': {'9757': 52.251739501953125, '7057': 52.705596923828125, '9647': 52.80416488647461, '9747': 53.14786911010742, '7047': 53.65972137451172}, '29': {'2002': 62.207496643066406, '2003': 63.610374450683594, '2012': 63.97751235961914, '2009': 64.03899383544922, '9257': 64.7266616821289}, '30': {'2002': 58.712493896484375, '2003': 59.014122009277344, '9257': 59.11193084716797, '2009': 59.560211181640625, '9247': 59.682899475097656}, '31': {'10517': 65.70330810546875, '10457': 66.35494995117188, '9257': 66.56314086914062, '10518': 66.61128234863281, '7033': 66.67864990234375}, '32': {'9709': 73.38908386230469, '9719': 76.95631408691406, '9723': 77.11064147949219, '2012': 77.46825408935547, '9319': 77.79661560058594}, '33': {'3709': 62.24592590332031, '9709': 62.7357177734375, '9739': 64.291748046875, '9729': 64.38227844238281, '5709': 64.44288635253906}, '34': {'2012': 57.60713195800781, '2002': 58.173885345458984, '2009': 58.666099548339844, '2004': 59.74152374267578, '5709': 60.36054229736328}, '35': {'2012': 82.81050109863281, '2002': 83.95075988769531, '5817': 84.12045288085938, '7017': 84.50979614257812, '2004': 84.60018920898438}, '36': {'3709': 59.302467346191406, '7684': 59.664756774902344, '8256': 59.822357177734375, '7984': 59.93585205078125, '8209': 60.11610794067383}, '37': {'3709': 71.00602722167969, '8347': 71.67774963378906, '3784': 71.7596206665039, '3947': 71.85958099365234, '9047': 71.92082977294922}, '38': {'7609': 71.57756042480469, '7617': 71.69438171386719, '7619': 71.87980651855469, '7632': 72.77085876464844, '7634': 72.8418197631836}, '39': {'2003': 73.44636535644531, '2012': 74.40858459472656, '2004': 75.03150177001953, '2002': 75.26393127441406, '2005': 75.3101577758789}, '40': {'2009': 67.13482666015625, '9200': 68.46409606933594, '2012': 68.5980224609375, '9133': 69.58377838134766, '2010': 69.75521850585938}, '41': {'9457': 63.123779296875, '7365': 63.66232681274414, '7465': 63.74976348876953, '7457': 64.39985656738281, '9765': 65.03453826904297}, '42': {'7065': 63.32626724243164, '9356': 63.540523529052734, '9765': 63.73321533203125, '6865': 63.83649444580078, '9456': 64.20712280273438}, '43': {'3709': 52.23984909057617, '9709': 53.85847473144531, '9719': 54.60306167602539, '3609': 55.20162582397461, '3784': 55.33015441894531}, '44': {'9757': 67.55435180664062, '9723': 68.53620147705078, '9715': 68.70085144042969, '9739': 69.52307891845703, '3784': 70.51908111572266}, '45': {'7057': 47.051353454589844, '6857': 49.8134765625, '7033': 50.253318786621094, '7357': 51.27684783935547, '9757': 51.910301208496094}, '46': {'6509': 48.53574752807617, '6809': 48.7296257019043, '7055': 49.66148376464844, '7035': 50.623130798339844, '6511': 50.7630500793457}, '47': {'9739': 58.3310661315918, '7033': 59.41342544555664, '9757': 59.79631805419922, '9547': 60.05730438232422, '9539': 60.183685302734375}, '48': {'9851': 70.56867980957031, '9457': 70.69026947021484, '9750': 70.70932006835938, '6551': 70.81039428710938, '9755': 70.91995239257812}, '49': {'5065': 60.66461181640625, '5709': 61.35517120361328, '4674': 62.3067512512207, '4609': 63.29783248901367, '5865': 63.42961883544922}, '50': {'7050': 61.2779541015625, '7030': 61.401668548583984, '6530': 61.496185302734375, '5709': 62.46087646484375, '5530': 63.03068161010742}, '51': {'7684': 42.85757064819336, '6674': 44.68422317504883, '6557': 44.79127502441406, '6874': 44.96044158935547, '6684': 45.27357864379883}, '52': {'5709': 58.52168273925781, '6809': 59.14085388183594, '7057': 59.30561828613281, '7065': 59.50640106201172, '7009': 59.67640686035156}, '53': {'9757': 60.78388595581055, '9709': 61.25684356689453, '9257': 61.46195983886719, '7057': 62.09646987915039, '2003': 62.33612823486328}, '54': {'9709': 62.043060302734375, '9509': 63.02423095703125, '9009': 63.25653076171875, '9030': 63.58385467529297, '9012': 64.91019439697266}, '55': {'9765': 70.74685668945312, '7065': 71.23446655273438, '9709': 71.50717163085938, '9757': 72.21370697021484, '7055': 72.55630493164062}, '56': {'7033': 50.61225509643555, '7057': 50.872074127197266, '9357': 51.43034744262695, '7357': 51.44641876220703, '9757': 51.5445442199707}, '57': {'2012': 53.652130126953125, '3709': 55.14020919799805, '7357': 55.592430114746094, '7057': 56.01588821411133, '2009': 56.410423278808594}, '58': {'7084': 57.078147888183594, '7009': 58.07126998901367, '9057': 58.07781219482422, '7057': 58.22911834716797, '9084': 59.14665985107422}, '59': {'9709': 54.81401062011719, '9439': 55.041542053222656, '2009': 55.11360168457031, '9715': 55.48332977294922, '3709': 55.743202209472656}, '60': {'5709': 59.07899475097656, '6509': 60.417964935302734, '5065': 60.523765563964844, '6609': 61.17686462402344, '6709': 61.328102111816406}, '61': {'8300': 79.38581848144531, '8209': 80.42044067382812, '8100': 81.23429870605469, '7009': 81.54206848144531, '8156': 81.56951904296875}, '62': {'6537': 70.23379516601562, '6528': 71.91899871826172, '6551': 72.2802734375, '6539': 72.867919921875, '6538': 73.18415832519531}, '63': {'3784': 80.779052734375, '3709': 80.9217300415039, '3684': 81.77921295166016, '3774': 82.8355712890625, '3609': 83.08038330078125}, '64': {'10457': 63.128116607666016, '2012': 64.30679321289062, '2003': 64.52953338623047, '9457': 64.54891204833984, '9757': 64.673095703125}, '65': {'9709': 43.88098907470703, '9719': 45.4917106628418, '9723': 45.50080108642578, '7009': 45.768795013427734, '3709': 45.8242073059082}, '66': {'3709': 57.60038757324219, '3684': 57.71049118041992, '3784': 58.5003662109375, '3609': 58.67124557495117, '9439': 58.8792839050293}, '67': {'7357': 69.12138366699219, '5709': 69.69015502929688, '9457': 69.84815979003906, '2009': 70.43885803222656, '7365': 70.97042846679688}, '68': {'7043': 69.97175598144531, '7065': 71.30523681640625, '6530': 71.3075180053711, '9765': 71.32613372802734, '7030': 71.64933776855469}, '69': {'5709': 67.78189086914062, '3709': 68.27572631835938, '5309': 68.90956115722656, '4774': 69.35400390625, '7335': 69.8388671875}, '70': {'9479': 60.263702392578125, '9757': 62.40419006347656, '10584': 63.26153564453125, '9457': 63.44247817993164, '9709': 63.66786575317383}, '71': {'6065': 68.07220458984375, '5709': 68.52973937988281, '7684': 68.58100128173828, '6709': 69.02903747558594, '9684': 69.14854431152344}, '72': {'3579': 68.0427474975586, '7030': 68.17285919189453, '9530': 68.21611022949219, '9547': 68.48567962646484, '7530': 68.83794403076172}, '73': {'5065': 85.57686614990234, '6540': 86.52063751220703, '5709': 86.54927062988281, '5865': 86.97386169433594, '6539': 87.06367492675781}, '74': {'9757': 70.50857543945312, '7033': 70.83473205566406, '9719': 71.35362243652344, '7037': 71.46420288085938, '9257': 71.62652587890625}, '75': {'9365': 68.96159362792969, '9335': 70.0261001586914, '7365': 70.21748352050781, '7465': 70.35731506347656, '6865': 70.40804290771484}, '76': {'5065': 84.55084228515625, '3865': 85.21658325195312, '3965': 85.24943542480469, '5028': 85.32373809814453, '5865': 85.8758316040039}, '77': {'6884': 51.499366760253906, '6857': 52.1298828125, '5484': 52.31209945678711, '6684': 52.401039123535156, '4684': 52.483131408691406}, '78': {'5709': 60.18720245361328, '5065': 61.87261199951172, '5521': 61.880157470703125, '7321': 62.09049606323242, '5609': 62.182838439941406}, '79': {'5709': 63.38723373413086, '9709': 63.39900588989258, '10517': 64.16907501220703, '2009': 64.31585693359375, '5309': 64.8218994140625}, '80': {'9257': 58.14784240722656, '7057': 58.78382873535156, '7053': 58.9862060546875, '9457': 59.267906188964844, '9857': 59.39508819580078}, '81': {'6874': 46.41265106201172, '3974': 46.770347595214844, '5709': 46.870357513427734, '4674': 47.12885284423828, '6809': 47.74298858642578}, '82': {'7065': 54.010108947753906, '6865': 55.65779113769531, '7057': 56.213191986083984, '7684': 56.86341094970703, '6684': 57.243133544921875}, '83': {'8030': 70.40264892578125, '8033': 71.22478485107422, '9739': 71.71144104003906, '8039': 72.03146362304688, '8339': 72.83831024169922}, '84': {'4684': 62.709869384765625, '4784': 63.973602294921875, '5784': 64.01094055175781, '5709': 64.81317138671875, '5684': 65.02587890625}, '85': {'9439': 61.22540283203125, '9457': 61.984683990478516, '10265': 62.49510955810547, '9445': 63.109230041503906, '5565': 63.180572509765625}, '86': {'3479': 67.55078125, '7037': 68.27915954589844, '7451': 68.39305114746094, '5284': 68.42710876464844, '6533': 68.96456909179688}, '87': {'9457': 63.0147705078125, '9357': 65.58136749267578, '9400': 65.75807189941406, '9439': 65.85271453857422, '9257': 65.98004150390625}, '88': {'9047': 50.933509826660156, '5709': 52.12626647949219, '10057': 52.260162353515625, '9057': 52.36501693725586, '7047': 52.485931396484375}, '89': {'9757': 73.96141815185547, '7033': 74.29664611816406, '8384': 75.02505493164062, '9709': 75.02947235107422, '9739': 75.13525390625}, '90': {'7057': 62.5162353515625, '5709': 63.36170196533203, '7357': 63.94145965576172, '9457': 64.0760269165039, '7065': 64.65852355957031}, '91': {'5739': 65.21519470214844, '3709': 65.43992614746094, '5709': 65.7804183959961, '5939': 67.21208190917969, '5839': 67.23051452636719}, '92': {'10246': 64.77293395996094, '10146': 66.50779724121094, '9457': 66.99143981933594, '10457': 67.6912612915039, '10157': 68.31370544433594}, '93': {'9457': 58.56048583984375, '7028': 58.92564392089844, '5865': 58.92774200439453, '7065': 58.997398376464844, '5709': 59.08710861206055}}\n"
          ]
        }
      ]
    },
    {
      "cell_type": "markdown",
      "source": [
        "Transformation format to Dictionnaire car pytrc_eval"
      ],
      "metadata": {
        "id": "sXU3tmeSVZB3"
      }
    },
    {
      "cell_type": "code",
      "source": [
        "# Evaluate using pytrec_eval\n",
        "evaluator = pytrec_eval.RelevanceEvaluator(qrels, {'ndcg', 'map'})\n",
        "evaluation_results = evaluator.evaluate(run)\n",
        "\n",
        "# Print evaluation results\n",
        "for query_id, metrics in evaluation_results.items():\n",
        "    for metric, value in metrics.items():\n",
        "        print(f\"Query ID: {query_id} - {metric}: {value}\")\n",
        "\n",
        "# Compute and print aggregated measure\n",
        "try:\n",
        "    aggregated_ndcg = pytrec_eval.compute_aggregated_measure(\n",
        "        'ndcg',\n",
        "        [metrics['ndcg'] for metrics in evaluation_results.values()]\n",
        "    )\n",
        "    print(\"Aggregated NDCG:\", aggregated_ndcg)\n",
        "except KeyError as e:\n",
        "    print(f\"KeyError: {e} not found in evaluation results.\")\n"
      ],
      "metadata": {
        "colab": {
          "base_uri": "https://localhost:8080/"
        },
        "id": "hxnP6khkWiFr",
        "outputId": "7711b279-6afc-4c67-a62c-dae604304e7e"
      },
      "execution_count": 94,
      "outputs": [
        {
          "output_type": "stream",
          "name": "stdout",
          "text": [
            "Query ID: 1 - map: 0.0\n",
            "Query ID: 1 - ndcg: 0.0\n",
            "Query ID: 2 - map: 0.0\n",
            "Query ID: 2 - ndcg: 0.0\n",
            "Query ID: 3 - map: 0.0\n",
            "Query ID: 3 - ndcg: 0.0\n",
            "Query ID: 4 - map: 0.0\n",
            "Query ID: 4 - ndcg: 0.0\n",
            "Query ID: 5 - map: 0.0\n",
            "Query ID: 5 - ndcg: 0.0\n",
            "Query ID: 6 - map: 0.0\n",
            "Query ID: 6 - ndcg: 0.0\n",
            "Query ID: 7 - map: 0.0\n",
            "Query ID: 7 - ndcg: 0.0\n",
            "Query ID: 8 - map: 0.0\n",
            "Query ID: 8 - ndcg: 0.0\n",
            "Query ID: 9 - map: 0.0\n",
            "Query ID: 9 - ndcg: 0.0\n",
            "Query ID: 10 - map: 0.0\n",
            "Query ID: 10 - ndcg: 0.0\n",
            "Query ID: 11 - map: 0.0\n",
            "Query ID: 11 - ndcg: 0.0\n",
            "Query ID: 12 - map: 0.0\n",
            "Query ID: 12 - ndcg: 0.0\n",
            "Query ID: 13 - map: 0.0\n",
            "Query ID: 13 - ndcg: 0.0\n",
            "Query ID: 14 - map: 0.0\n",
            "Query ID: 14 - ndcg: 0.0\n",
            "Query ID: 15 - map: 0.0\n",
            "Query ID: 15 - ndcg: 0.0\n",
            "Query ID: 16 - map: 0.0\n",
            "Query ID: 16 - ndcg: 0.0\n",
            "Query ID: 17 - map: 0.0\n",
            "Query ID: 17 - ndcg: 0.0\n",
            "Query ID: 18 - map: 0.0\n",
            "Query ID: 18 - ndcg: 0.0\n",
            "Query ID: 19 - map: 0.0\n",
            "Query ID: 19 - ndcg: 0.0\n",
            "Query ID: 20 - map: 0.0\n",
            "Query ID: 20 - ndcg: 0.0\n",
            "Query ID: 21 - map: 0.0\n",
            "Query ID: 21 - ndcg: 0.0\n",
            "Query ID: 22 - map: 0.0\n",
            "Query ID: 22 - ndcg: 0.0\n",
            "Query ID: 23 - map: 0.0\n",
            "Query ID: 23 - ndcg: 0.0\n",
            "Query ID: 24 - map: 0.0\n",
            "Query ID: 24 - ndcg: 0.0\n",
            "Query ID: 25 - map: 0.0\n",
            "Query ID: 25 - ndcg: 0.0\n",
            "Query ID: 26 - map: 0.0\n",
            "Query ID: 26 - ndcg: 0.0\n",
            "Query ID: 27 - map: 0.0\n",
            "Query ID: 27 - ndcg: 0.0\n",
            "Query ID: 28 - map: 0.0\n",
            "Query ID: 28 - ndcg: 0.0\n",
            "Query ID: 29 - map: 0.0\n",
            "Query ID: 29 - ndcg: 0.0\n",
            "Query ID: 30 - map: 0.0\n",
            "Query ID: 30 - ndcg: 0.0\n",
            "Query ID: 31 - map: 0.0\n",
            "Query ID: 31 - ndcg: 0.0\n",
            "Query ID: 32 - map: 0.0\n",
            "Query ID: 32 - ndcg: 0.0\n",
            "Query ID: 33 - map: 0.0\n",
            "Query ID: 33 - ndcg: 0.0\n",
            "Query ID: 34 - map: 0.0\n",
            "Query ID: 34 - ndcg: 0.0\n",
            "Query ID: 35 - map: 0.0\n",
            "Query ID: 35 - ndcg: 0.0\n",
            "Query ID: 36 - map: 0.0\n",
            "Query ID: 36 - ndcg: 0.0\n",
            "Query ID: 37 - map: 0.0\n",
            "Query ID: 37 - ndcg: 0.0\n",
            "Query ID: 38 - map: 0.0\n",
            "Query ID: 38 - ndcg: 0.0\n",
            "Query ID: 39 - map: 0.0\n",
            "Query ID: 39 - ndcg: 0.0\n",
            "Query ID: 40 - map: 0.0\n",
            "Query ID: 40 - ndcg: 0.0\n",
            "Query ID: 41 - map: 0.0\n",
            "Query ID: 41 - ndcg: 0.0\n",
            "Query ID: 42 - map: 0.0\n",
            "Query ID: 42 - ndcg: 0.0\n",
            "Query ID: 43 - map: 0.0\n",
            "Query ID: 43 - ndcg: 0.0\n",
            "Query ID: 44 - map: 0.0\n",
            "Query ID: 44 - ndcg: 0.0\n",
            "Query ID: 45 - map: 0.0\n",
            "Query ID: 45 - ndcg: 0.0\n",
            "Query ID: 46 - map: 0.0\n",
            "Query ID: 46 - ndcg: 0.0\n",
            "Query ID: 47 - map: 0.0\n",
            "Query ID: 47 - ndcg: 0.0\n",
            "Query ID: 48 - map: 0.0\n",
            "Query ID: 48 - ndcg: 0.0\n",
            "Query ID: 49 - map: 0.0\n",
            "Query ID: 49 - ndcg: 0.0\n",
            "Query ID: 50 - map: 0.0\n",
            "Query ID: 50 - ndcg: 0.0\n",
            "Query ID: 51 - map: 0.0\n",
            "Query ID: 51 - ndcg: 0.0\n",
            "Query ID: 52 - map: 0.0\n",
            "Query ID: 52 - ndcg: 0.0\n",
            "Query ID: 53 - map: 0.0\n",
            "Query ID: 53 - ndcg: 0.0\n",
            "Query ID: 54 - map: 0.0\n",
            "Query ID: 54 - ndcg: 0.0\n",
            "Query ID: 55 - map: 0.0\n",
            "Query ID: 55 - ndcg: 0.0\n",
            "Query ID: 56 - map: 0.0\n",
            "Query ID: 56 - ndcg: 0.0\n",
            "Query ID: 57 - map: 0.0\n",
            "Query ID: 57 - ndcg: 0.0\n",
            "Query ID: 58 - map: 0.0\n",
            "Query ID: 58 - ndcg: 0.0\n",
            "Query ID: 59 - map: 0.0\n",
            "Query ID: 59 - ndcg: 0.0\n",
            "Query ID: 60 - map: 0.0\n",
            "Query ID: 60 - ndcg: 0.0\n",
            "Query ID: 61 - map: 0.0\n",
            "Query ID: 61 - ndcg: 0.0\n",
            "Query ID: 62 - map: 0.0\n",
            "Query ID: 62 - ndcg: 0.0\n",
            "Query ID: 63 - map: 0.0\n",
            "Query ID: 63 - ndcg: 0.0\n",
            "Query ID: 64 - map: 0.0\n",
            "Query ID: 64 - ndcg: 0.0\n",
            "Query ID: 65 - map: 0.0\n",
            "Query ID: 65 - ndcg: 0.0\n",
            "Query ID: 66 - map: 0.0\n",
            "Query ID: 66 - ndcg: 0.0\n",
            "Query ID: 67 - map: 0.0\n",
            "Query ID: 67 - ndcg: 0.0\n",
            "Query ID: 68 - map: 0.0\n",
            "Query ID: 68 - ndcg: 0.0\n",
            "Query ID: 69 - map: 0.0\n",
            "Query ID: 69 - ndcg: 0.0\n",
            "Query ID: 70 - map: 0.0\n",
            "Query ID: 70 - ndcg: 0.0\n",
            "Query ID: 71 - map: 0.0\n",
            "Query ID: 71 - ndcg: 0.0\n",
            "Query ID: 72 - map: 0.0\n",
            "Query ID: 72 - ndcg: 0.0\n",
            "Query ID: 73 - map: 0.0\n",
            "Query ID: 73 - ndcg: 0.0\n",
            "Query ID: 74 - map: 0.0\n",
            "Query ID: 74 - ndcg: 0.0\n",
            "Query ID: 75 - map: 0.0\n",
            "Query ID: 75 - ndcg: 0.0\n",
            "Query ID: 76 - map: 0.0\n",
            "Query ID: 76 - ndcg: 0.0\n",
            "Query ID: 77 - map: 0.0\n",
            "Query ID: 77 - ndcg: 0.0\n",
            "Query ID: 78 - map: 0.0\n",
            "Query ID: 78 - ndcg: 0.0\n",
            "Query ID: 79 - map: 0.0\n",
            "Query ID: 79 - ndcg: 0.0\n",
            "Query ID: 80 - map: 0.0\n",
            "Query ID: 80 - ndcg: 0.0\n",
            "Query ID: 81 - map: 0.0\n",
            "Query ID: 81 - ndcg: 0.0\n",
            "Query ID: 82 - map: 0.0\n",
            "Query ID: 82 - ndcg: 0.0\n",
            "Query ID: 83 - map: 0.0\n",
            "Query ID: 83 - ndcg: 0.0\n",
            "Query ID: 84 - map: 0.0\n",
            "Query ID: 84 - ndcg: 0.0\n",
            "Query ID: 85 - map: 0.0\n",
            "Query ID: 85 - ndcg: 0.0\n",
            "Query ID: 86 - map: 0.0\n",
            "Query ID: 86 - ndcg: 0.0\n",
            "Query ID: 87 - map: 0.0\n",
            "Query ID: 87 - ndcg: 0.0\n",
            "Query ID: 88 - map: 0.0\n",
            "Query ID: 88 - ndcg: 0.0\n",
            "Query ID: 89 - map: 0.0\n",
            "Query ID: 89 - ndcg: 0.0\n",
            "Query ID: 90 - map: 0.0\n",
            "Query ID: 90 - ndcg: 0.0\n",
            "Query ID: 91 - map: 0.0\n",
            "Query ID: 91 - ndcg: 0.0\n",
            "Query ID: 92 - map: 0.0\n",
            "Query ID: 92 - ndcg: 0.0\n",
            "Query ID: 93 - map: 0.0\n",
            "Query ID: 93 - ndcg: 0.0\n",
            "Aggregated NDCG: 0.0\n"
          ]
        }
      ]
    },
    {
      "cell_type": "code",
      "source": [
        "import pandas as pd\n",
        "#qrles\n",
        "qrel = {k: {kk:int(vv) for kk,vv in v[['doc_id','relevance']].values} for k, v in pd.DataFrame(dataset.qrels_iter()).groupby('query_id')[['doc_id','relevance']]}\n",
        "evaluator = pytrec_eval.RelevanceEvaluator(\n",
        "    qrel, {'map', 'ndcg_cut'})"
      ],
      "metadata": {
        "id": "zXCqy2B7OW3C"
      },
      "execution_count": 95,
      "outputs": []
    },
    {
      "cell_type": "code",
      "source": [
        "pd.DataFrame(evaluator.evaluate(run)).T.mean()"
      ],
      "metadata": {
        "colab": {
          "base_uri": "https://localhost:8080/"
        },
        "id": "gbozjFMtOctc",
        "outputId": "ec855c75-3c9c-454d-fae6-1c03676fadc2"
      },
      "execution_count": 96,
      "outputs": [
        {
          "output_type": "execute_result",
          "data": {
            "text/plain": [
              "map              0.0\n",
              "ndcg_cut_5       0.0\n",
              "ndcg_cut_10      0.0\n",
              "ndcg_cut_15      0.0\n",
              "ndcg_cut_20      0.0\n",
              "ndcg_cut_30      0.0\n",
              "ndcg_cut_100     0.0\n",
              "ndcg_cut_200     0.0\n",
              "ndcg_cut_500     0.0\n",
              "ndcg_cut_1000    0.0\n",
              "dtype: float64"
            ]
          },
          "metadata": {},
          "execution_count": 96
        }
      ]
    }
  ],
  "metadata": {
    "kernelspec": {
      "display_name": "Python 3",
      "language": "python",
      "name": "python3"
    },
    "language_info": {
      "codemirror_mode": {
        "name": "ipython",
        "version": 3
      },
      "file_extension": ".py",
      "mimetype": "text/x-python",
      "name": "python",
      "nbconvert_exporter": "python",
      "pygments_lexer": "ipython3",
      "version": "3.10.12"
    },
    "colab": {
      "provenance": []
    }
  },
  "nbformat": 4,
  "nbformat_minor": 0
}