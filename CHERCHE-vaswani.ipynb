{
  "cells": [
    {
      "cell_type": "code",
      "execution_count": 64,
      "metadata": {
        "id": "ILt2sRTW_un6"
      },
      "outputs": [],
      "source": [
        "!pip install cherche --upgrade -q"
      ]
    },
    {
      "cell_type": "code",
      "execution_count": 65,
      "metadata": {
        "id": "i_QF4Kxg__5y"
      },
      "outputs": [],
      "source": [
        "!pip install ir_datasets -q"
      ]
    },
    {
      "cell_type": "code",
      "execution_count": 66,
      "metadata": {
        "colab": {
          "base_uri": "https://localhost:8080/"
        },
        "id": "10xLIOiHLDov",
        "outputId": "27eaef42-455c-4006-8ea3-54d501365282"
      },
      "outputs": [
        {
          "output_type": "stream",
          "name": "stdout",
          "text": [
            "Requirement already satisfied: pytrec_eval in /usr/local/lib/python3.10/dist-packages (0.5)\n"
          ]
        }
      ],
      "source": [
        "!pip install pytrec_eval"
      ]
    },
    {
      "cell_type": "code",
      "source": [
        "!pip install sentence_transformers"
      ],
      "metadata": {
        "colab": {
          "base_uri": "https://localhost:8080/"
        },
        "id": "1NMYbKi6b5dk",
        "outputId": "17efe574-1dfd-4902-da9c-2515414416dc"
      },
      "execution_count": 67,
      "outputs": [
        {
          "output_type": "stream",
          "name": "stdout",
          "text": [
            "Requirement already satisfied: sentence_transformers in /usr/local/lib/python3.10/dist-packages (2.7.0)\n",
            "Requirement already satisfied: transformers<5.0.0,>=4.34.0 in /usr/local/lib/python3.10/dist-packages (from sentence_transformers) (4.40.2)\n",
            "Requirement already satisfied: tqdm in /usr/local/lib/python3.10/dist-packages (from sentence_transformers) (4.66.4)\n",
            "Requirement already satisfied: torch>=1.11.0 in /usr/local/lib/python3.10/dist-packages (from sentence_transformers) (2.2.1+cu121)\n",
            "Requirement already satisfied: numpy in /usr/local/lib/python3.10/dist-packages (from sentence_transformers) (1.25.2)\n",
            "Requirement already satisfied: scikit-learn in /usr/local/lib/python3.10/dist-packages (from sentence_transformers) (1.2.2)\n",
            "Requirement already satisfied: scipy in /usr/local/lib/python3.10/dist-packages (from sentence_transformers) (1.11.4)\n",
            "Requirement already satisfied: huggingface-hub>=0.15.1 in /usr/local/lib/python3.10/dist-packages (from sentence_transformers) (0.20.3)\n",
            "Requirement already satisfied: Pillow in /usr/local/lib/python3.10/dist-packages (from sentence_transformers) (9.4.0)\n",
            "Requirement already satisfied: filelock in /usr/local/lib/python3.10/dist-packages (from huggingface-hub>=0.15.1->sentence_transformers) (3.14.0)\n",
            "Requirement already satisfied: fsspec>=2023.5.0 in /usr/local/lib/python3.10/dist-packages (from huggingface-hub>=0.15.1->sentence_transformers) (2023.6.0)\n",
            "Requirement already satisfied: requests in /usr/local/lib/python3.10/dist-packages (from huggingface-hub>=0.15.1->sentence_transformers) (2.31.0)\n",
            "Requirement already satisfied: pyyaml>=5.1 in /usr/local/lib/python3.10/dist-packages (from huggingface-hub>=0.15.1->sentence_transformers) (6.0.1)\n",
            "Requirement already satisfied: typing-extensions>=3.7.4.3 in /usr/local/lib/python3.10/dist-packages (from huggingface-hub>=0.15.1->sentence_transformers) (4.11.0)\n",
            "Requirement already satisfied: packaging>=20.9 in /usr/local/lib/python3.10/dist-packages (from huggingface-hub>=0.15.1->sentence_transformers) (24.0)\n",
            "Requirement already satisfied: sympy in /usr/local/lib/python3.10/dist-packages (from torch>=1.11.0->sentence_transformers) (1.12)\n",
            "Requirement already satisfied: networkx in /usr/local/lib/python3.10/dist-packages (from torch>=1.11.0->sentence_transformers) (3.3)\n",
            "Requirement already satisfied: jinja2 in /usr/local/lib/python3.10/dist-packages (from torch>=1.11.0->sentence_transformers) (3.1.4)\n",
            "Requirement already satisfied: nvidia-cuda-nvrtc-cu12==12.1.105 in /usr/local/lib/python3.10/dist-packages (from torch>=1.11.0->sentence_transformers) (12.1.105)\n",
            "Requirement already satisfied: nvidia-cuda-runtime-cu12==12.1.105 in /usr/local/lib/python3.10/dist-packages (from torch>=1.11.0->sentence_transformers) (12.1.105)\n",
            "Requirement already satisfied: nvidia-cuda-cupti-cu12==12.1.105 in /usr/local/lib/python3.10/dist-packages (from torch>=1.11.0->sentence_transformers) (12.1.105)\n",
            "Requirement already satisfied: nvidia-cudnn-cu12==8.9.2.26 in /usr/local/lib/python3.10/dist-packages (from torch>=1.11.0->sentence_transformers) (8.9.2.26)\n",
            "Requirement already satisfied: nvidia-cublas-cu12==12.1.3.1 in /usr/local/lib/python3.10/dist-packages (from torch>=1.11.0->sentence_transformers) (12.1.3.1)\n",
            "Requirement already satisfied: nvidia-cufft-cu12==11.0.2.54 in /usr/local/lib/python3.10/dist-packages (from torch>=1.11.0->sentence_transformers) (11.0.2.54)\n",
            "Requirement already satisfied: nvidia-curand-cu12==10.3.2.106 in /usr/local/lib/python3.10/dist-packages (from torch>=1.11.0->sentence_transformers) (10.3.2.106)\n",
            "Requirement already satisfied: nvidia-cusolver-cu12==11.4.5.107 in /usr/local/lib/python3.10/dist-packages (from torch>=1.11.0->sentence_transformers) (11.4.5.107)\n",
            "Requirement already satisfied: nvidia-cusparse-cu12==12.1.0.106 in /usr/local/lib/python3.10/dist-packages (from torch>=1.11.0->sentence_transformers) (12.1.0.106)\n",
            "Requirement already satisfied: nvidia-nccl-cu12==2.19.3 in /usr/local/lib/python3.10/dist-packages (from torch>=1.11.0->sentence_transformers) (2.19.3)\n",
            "Requirement already satisfied: nvidia-nvtx-cu12==12.1.105 in /usr/local/lib/python3.10/dist-packages (from torch>=1.11.0->sentence_transformers) (12.1.105)\n",
            "Requirement already satisfied: triton==2.2.0 in /usr/local/lib/python3.10/dist-packages (from torch>=1.11.0->sentence_transformers) (2.2.0)\n",
            "Requirement already satisfied: nvidia-nvjitlink-cu12 in /usr/local/lib/python3.10/dist-packages (from nvidia-cusolver-cu12==11.4.5.107->torch>=1.11.0->sentence_transformers) (12.4.127)\n",
            "Requirement already satisfied: regex!=2019.12.17 in /usr/local/lib/python3.10/dist-packages (from transformers<5.0.0,>=4.34.0->sentence_transformers) (2023.12.25)\n",
            "Requirement already satisfied: tokenizers<0.20,>=0.19 in /usr/local/lib/python3.10/dist-packages (from transformers<5.0.0,>=4.34.0->sentence_transformers) (0.19.1)\n",
            "Requirement already satisfied: safetensors>=0.4.1 in /usr/local/lib/python3.10/dist-packages (from transformers<5.0.0,>=4.34.0->sentence_transformers) (0.4.3)\n",
            "Requirement already satisfied: joblib>=1.1.1 in /usr/local/lib/python3.10/dist-packages (from scikit-learn->sentence_transformers) (1.4.2)\n",
            "Requirement already satisfied: threadpoolctl>=2.0.0 in /usr/local/lib/python3.10/dist-packages (from scikit-learn->sentence_transformers) (3.5.0)\n",
            "Requirement already satisfied: MarkupSafe>=2.0 in /usr/local/lib/python3.10/dist-packages (from jinja2->torch>=1.11.0->sentence_transformers) (2.1.5)\n",
            "Requirement already satisfied: charset-normalizer<4,>=2 in /usr/local/lib/python3.10/dist-packages (from requests->huggingface-hub>=0.15.1->sentence_transformers) (3.3.2)\n",
            "Requirement already satisfied: idna<4,>=2.5 in /usr/local/lib/python3.10/dist-packages (from requests->huggingface-hub>=0.15.1->sentence_transformers) (3.7)\n",
            "Requirement already satisfied: urllib3<3,>=1.21.1 in /usr/local/lib/python3.10/dist-packages (from requests->huggingface-hub>=0.15.1->sentence_transformers) (2.0.7)\n",
            "Requirement already satisfied: certifi>=2017.4.17 in /usr/local/lib/python3.10/dist-packages (from requests->huggingface-hub>=0.15.1->sentence_transformers) (2024.2.2)\n",
            "Requirement already satisfied: mpmath>=0.19 in /usr/local/lib/python3.10/dist-packages (from sympy->torch>=1.11.0->sentence_transformers) (1.3.0)\n"
          ]
        }
      ]
    },
    {
      "cell_type": "code",
      "execution_count": 68,
      "metadata": {
        "id": "ftFd_QwCOkzf"
      },
      "outputs": [],
      "source": [
        "import pytrec_eval"
      ]
    },
    {
      "cell_type": "code",
      "execution_count": 69,
      "metadata": {
        "id": "etTUgS0k__9h"
      },
      "outputs": [],
      "source": [
        "import ir_datasets"
      ]
    },
    {
      "cell_type": "code",
      "execution_count": 70,
      "metadata": {
        "id": "iyc8RuJWAAA5"
      },
      "outputs": [],
      "source": [
        "#dataset = ir_datasets.load(\"msmarco-passage/trec-dl-2019/judged\")\n",
        "dataset = ir_datasets.load(\"vaswani\")"
      ]
    },
    {
      "cell_type": "code",
      "execution_count": 71,
      "metadata": {
        "id": "J_AWHDI3LhoG"
      },
      "outputs": [],
      "source": [
        "import pandas as pd\n",
        "import json"
      ]
    },
    {
      "cell_type": "code",
      "execution_count": 72,
      "metadata": {
        "id": "hVnRbZtkBvSh"
      },
      "outputs": [],
      "source": [
        "from cherche import data, retrieve, rank\n",
        "from sentence_transformers import SentenceTransformer"
      ]
    },
    {
      "cell_type": "code",
      "execution_count": 73,
      "metadata": {
        "id": "MvObzJvSLpvY"
      },
      "outputs": [],
      "source": [
        "import numpy as np"
      ]
    },
    {
      "cell_type": "code",
      "execution_count": 74,
      "metadata": {
        "id": "UoF-uQwsZnKT"
      },
      "outputs": [],
      "source": [
        "from sklearn.feature_extraction.text import TfidfVectorizer"
      ]
    },
    {
      "cell_type": "code",
      "execution_count": 75,
      "metadata": {
        "colab": {
          "base_uri": "https://localhost:8080/"
        },
        "id": "O2jBiJ1mXBIw",
        "outputId": "3f025bb3-4bd7-48bf-e1b6-cd0ad904dbbb"
      },
      "outputs": [
        {
          "output_type": "stream",
          "name": "stdout",
          "text": [
            "GenericDoc(doc_id='1', text='compact memories have flexible capacities  a digital data storage\\nsystem with capacity up to bits and random and or sequential access\\nis described\\n')\n"
          ]
        }
      ],
      "source": [
        "for x in dataset.docs_iter():\n",
        "  print(x)\n",
        "  break"
      ]
    },
    {
      "cell_type": "code",
      "execution_count": 76,
      "metadata": {
        "id": "1u5OqWZ5z59s"
      },
      "outputs": [],
      "source": [
        "from sklearn.feature_extraction.text import TfidfVectorizer\n",
        "from sklearn.metrics.pairwise import linear_kernel\n",
        "from scipy.sparse import csc_matrix\n",
        "import typing"
      ]
    },
    {
      "cell_type": "code",
      "execution_count": 77,
      "metadata": {
        "colab": {
          "base_uri": "https://localhost:8080/",
          "height": 75
        },
        "id": "yW-GH-qUUJF5",
        "outputId": "91b9afb7-5126-4558-f562-62563b75f16c"
      },
      "outputs": [
        {
          "output_type": "execute_result",
          "data": {
            "text/plain": [
              "TfidfVectorizer()"
            ],
            "text/html": [
              "<style>#sk-container-id-3 {color: black;background-color: white;}#sk-container-id-3 pre{padding: 0;}#sk-container-id-3 div.sk-toggleable {background-color: white;}#sk-container-id-3 label.sk-toggleable__label {cursor: pointer;display: block;width: 100%;margin-bottom: 0;padding: 0.3em;box-sizing: border-box;text-align: center;}#sk-container-id-3 label.sk-toggleable__label-arrow:before {content: \"▸\";float: left;margin-right: 0.25em;color: #696969;}#sk-container-id-3 label.sk-toggleable__label-arrow:hover:before {color: black;}#sk-container-id-3 div.sk-estimator:hover label.sk-toggleable__label-arrow:before {color: black;}#sk-container-id-3 div.sk-toggleable__content {max-height: 0;max-width: 0;overflow: hidden;text-align: left;background-color: #f0f8ff;}#sk-container-id-3 div.sk-toggleable__content pre {margin: 0.2em;color: black;border-radius: 0.25em;background-color: #f0f8ff;}#sk-container-id-3 input.sk-toggleable__control:checked~div.sk-toggleable__content {max-height: 200px;max-width: 100%;overflow: auto;}#sk-container-id-3 input.sk-toggleable__control:checked~label.sk-toggleable__label-arrow:before {content: \"▾\";}#sk-container-id-3 div.sk-estimator input.sk-toggleable__control:checked~label.sk-toggleable__label {background-color: #d4ebff;}#sk-container-id-3 div.sk-label input.sk-toggleable__control:checked~label.sk-toggleable__label {background-color: #d4ebff;}#sk-container-id-3 input.sk-hidden--visually {border: 0;clip: rect(1px 1px 1px 1px);clip: rect(1px, 1px, 1px, 1px);height: 1px;margin: -1px;overflow: hidden;padding: 0;position: absolute;width: 1px;}#sk-container-id-3 div.sk-estimator {font-family: monospace;background-color: #f0f8ff;border: 1px dotted black;border-radius: 0.25em;box-sizing: border-box;margin-bottom: 0.5em;}#sk-container-id-3 div.sk-estimator:hover {background-color: #d4ebff;}#sk-container-id-3 div.sk-parallel-item::after {content: \"\";width: 100%;border-bottom: 1px solid gray;flex-grow: 1;}#sk-container-id-3 div.sk-label:hover label.sk-toggleable__label {background-color: #d4ebff;}#sk-container-id-3 div.sk-serial::before {content: \"\";position: absolute;border-left: 1px solid gray;box-sizing: border-box;top: 0;bottom: 0;left: 50%;z-index: 0;}#sk-container-id-3 div.sk-serial {display: flex;flex-direction: column;align-items: center;background-color: white;padding-right: 0.2em;padding-left: 0.2em;position: relative;}#sk-container-id-3 div.sk-item {position: relative;z-index: 1;}#sk-container-id-3 div.sk-parallel {display: flex;align-items: stretch;justify-content: center;background-color: white;position: relative;}#sk-container-id-3 div.sk-item::before, #sk-container-id-3 div.sk-parallel-item::before {content: \"\";position: absolute;border-left: 1px solid gray;box-sizing: border-box;top: 0;bottom: 0;left: 50%;z-index: -1;}#sk-container-id-3 div.sk-parallel-item {display: flex;flex-direction: column;z-index: 1;position: relative;background-color: white;}#sk-container-id-3 div.sk-parallel-item:first-child::after {align-self: flex-end;width: 50%;}#sk-container-id-3 div.sk-parallel-item:last-child::after {align-self: flex-start;width: 50%;}#sk-container-id-3 div.sk-parallel-item:only-child::after {width: 0;}#sk-container-id-3 div.sk-dashed-wrapped {border: 1px dashed gray;margin: 0 0.4em 0.5em 0.4em;box-sizing: border-box;padding-bottom: 0.4em;background-color: white;}#sk-container-id-3 div.sk-label label {font-family: monospace;font-weight: bold;display: inline-block;line-height: 1.2em;}#sk-container-id-3 div.sk-label-container {text-align: center;}#sk-container-id-3 div.sk-container {/* jupyter's `normalize.less` sets `[hidden] { display: none; }` but bootstrap.min.css set `[hidden] { display: none !important; }` so we also need the `!important` here to be able to override the default hidden behavior on the sphinx rendered scikit-learn.org. See: https://github.com/scikit-learn/scikit-learn/issues/21755 */display: inline-block !important;position: relative;}#sk-container-id-3 div.sk-text-repr-fallback {display: none;}</style><div id=\"sk-container-id-3\" class=\"sk-top-container\"><div class=\"sk-text-repr-fallback\"><pre>TfidfVectorizer()</pre><b>In a Jupyter environment, please rerun this cell to show the HTML representation or trust the notebook. <br />On GitHub, the HTML representation is unable to render, please try loading this page with nbviewer.org.</b></div><div class=\"sk-container\" hidden><div class=\"sk-item\"><div class=\"sk-estimator sk-toggleable\"><input class=\"sk-toggleable__control sk-hidden--visually\" id=\"sk-estimator-id-3\" type=\"checkbox\" checked><label for=\"sk-estimator-id-3\" class=\"sk-toggleable__label sk-toggleable__label-arrow\">TfidfVectorizer</label><div class=\"sk-toggleable__content\"><pre>TfidfVectorizer()</pre></div></div></div></div></div>"
            ]
          },
          "metadata": {},
          "execution_count": 77
        }
      ],
      "source": [
        "vectorizer_queries = TfidfVectorizer()\n",
        "vectorizer_queries.fit([querytext for queryid, querytext in dataset.queries_iter()])\n"
      ]
    },
    {
      "cell_type": "code",
      "execution_count": 78,
      "metadata": {
        "colab": {
          "base_uri": "https://localhost:8080/"
        },
        "id": "kZ-MJgz-UkXL",
        "outputId": "44ca40f6-7c92-4692-ed9b-1e7a80c9b454"
      },
      "outputs": [
        {
          "output_type": "execute_result",
          "data": {
            "text/plain": [
              "(['measurement', 'of', 'dielectric', 'constant', 'liquids'], 430)"
            ]
          },
          "metadata": {},
          "execution_count": 78
        }
      ],
      "source": [
        "list(vectorizer_queries.vocabulary_.keys())[:5], len(vectorizer_queries.vocabulary_.keys())"
      ]
    },
    {
      "cell_type": "code",
      "execution_count": 79,
      "metadata": {
        "id": "-DYElI3EX3E-"
      },
      "outputs": [],
      "source": [
        "\n",
        "\n"
      ]
    },
    {
      "cell_type": "code",
      "source": [
        "def clean_text(raw_text):\n",
        "  return \" \".join(list(set(aq(raw_text))&set_vocab_queries))"
      ],
      "metadata": {
        "id": "wZgxu2SD9YiP"
      },
      "execution_count": 80,
      "outputs": []
    },
    {
      "cell_type": "code",
      "source": [],
      "metadata": {
        "id": "ZB1BMWzr_2j-"
      },
      "execution_count": 80,
      "outputs": []
    },
    {
      "cell_type": "code",
      "execution_count": 81,
      "metadata": {
        "id": "nr9pSKpGCcCa",
        "colab": {
          "base_uri": "https://localhost:8080/"
        },
        "outputId": "c32eb2a3-f28e-4c49-8440-97fadadd7cab"
      },
      "outputs": [
        {
          "output_type": "execute_result",
          "data": {
            "text/plain": [
              "11429"
            ]
          },
          "metadata": {},
          "execution_count": 81
        }
      ],
      "source": [
        "# List of dicts\n",
        "documents = [{'id':doc,'title':doc,'url':doc,'article':clean_text(text)} for (doc, text) in dataset.docs_iter()]\n",
        "len(documents)"
      ]
    },
    {
      "cell_type": "code",
      "execution_count": 82,
      "metadata": {
        "colab": {
          "base_uri": "https://localhost:8080/"
        },
        "id": "ZCLVm9VN2ij-",
        "outputId": "e3a286dd-5740-47c9-ae70-12b86378f85f"
      },
      "outputs": [
        {
          "output_type": "execute_result",
          "data": {
            "text/plain": [
              "[{'id': '1',\n",
              "  'title': '1',\n",
              "  'url': '1',\n",
              "  'article': 'and digital random with data to is have or'},\n",
              " {'id': '2',\n",
              "  'title': '2',\n",
              "  'url': '2',\n",
              "  'article': 'analogue and for systems stability computer mathematical amplifiers linear of derivation electronic the equations an'},\n",
              " {'id': '3',\n",
              "  'title': '3',\n",
              "  'url': '3',\n",
              "  'article': 'and for circuit calculating which of from construction electronic the to details an given transformer or'}]"
            ]
          },
          "metadata": {},
          "execution_count": 82
        }
      ],
      "source": [
        "documents[:3]"
      ]
    },
    {
      "cell_type": "code",
      "execution_count": 83,
      "metadata": {
        "id": "aLlogFtpeNzT"
      },
      "outputs": [],
      "source": [
        "#qrles\n",
        "qrel = {k: {kk:int(vv) for kk,vv in v[['doc_id','relevance']].values} for k, v in pd.DataFrame(dataset.qrels_iter()).groupby('query_id')[['doc_id','relevance']]}\n",
        "evaluator = pytrec_eval.RelevanceEvaluator(\n",
        "    qrel, {'map', 'ndcg_cut'})"
      ]
    },
    {
      "cell_type": "code",
      "execution_count": 83,
      "metadata": {
        "id": "Lva-DUOr-azb"
      },
      "outputs": [],
      "source": []
    },
    {
      "cell_type": "code",
      "execution_count": 84,
      "metadata": {
        "id": "payraP5G-a26"
      },
      "outputs": [],
      "source": [
        "# Retrieve on field article and evaluate\n",
        "retriever = retrieve.TfIdf(key=\"id\", on=[\"article\"], documents=documents, k=1000, tfidf=TfidfVectorizer(vocabulary=vocab_queries))\n"
      ]
    },
    {
      "cell_type": "code",
      "execution_count": 85,
      "metadata": {
        "colab": {
          "base_uri": "https://localhost:8080/"
        },
        "id": "wrAiTzmZbwzo",
        "outputId": "b8efd020-8993-452c-9b69-35a364d904ee"
      },
      "outputs": [
        {
          "output_type": "execute_result",
          "data": {
            "text/plain": [
              "430"
            ]
          },
          "metadata": {},
          "execution_count": 85
        }
      ],
      "source": [
        "len(list(retriever.tfidf.vocabulary_))"
      ]
    },
    {
      "cell_type": "code",
      "execution_count": 86,
      "metadata": {
        "colab": {
          "base_uri": "https://localhost:8080/"
        },
        "id": "vWwTzuKCPmrC",
        "outputId": "2a4b3498-6008-42e1-dbaa-326ac705bd81"
      },
      "outputs": [
        {
          "output_type": "execute_result",
          "data": {
            "text/plain": [
              "[{'id': '6741', 'similarity': 1.0},\n",
              " {'id': '1969', 'similarity': 1.0},\n",
              " {'id': '8395', 'similarity': 1.0},\n",
              " {'id': '8872', 'similarity': 0.8614243268966675},\n",
              " {'id': '341', 'similarity': 0.8614243268966675},\n",
              " {'id': '4674', 'similarity': 0.8614243268966675},\n",
              " {'id': '9582', 'similarity': 0.8462282419204712},\n",
              " {'id': '2984', 'similarity': 0.8462282419204712},\n",
              " {'id': '10811', 'similarity': 0.8462282419204712},\n",
              " {'id': '8498', 'similarity': 0.7628793120384216},\n",
              " {'id': '1840', 'similarity': 0.7189940214157104},\n",
              " {'id': '7032', 'similarity': 0.7132627964019775},\n",
              " {'id': '6742', 'similarity': 0.7132627964019775},\n",
              " {'id': '7228', 'similarity': 0.7132627964019775},\n",
              " {'id': '7611', 'similarity': 0.7132627964019775},\n",
              " {'id': '10560', 'similarity': 0.6957420706748962},\n",
              " {'id': '4772', 'similarity': 0.6372761726379395},\n",
              " {'id': '4037', 'similarity': 0.6228885054588318},\n",
              " {'id': '10942', 'similarity': 0.5962892770767212},\n",
              " {'id': '2665', 'similarity': 0.5847053527832031},\n",
              " {'id': '1757', 'similarity': 0.5508456230163574},\n",
              " {'id': '7386', 'similarity': 0.5185704231262207},\n",
              " {'id': '910', 'similarity': 0.5058350563049316},\n",
              " {'id': '2938', 'similarity': 0.5001099705696106},\n",
              " {'id': '2949', 'similarity': 0.4959096312522888},\n",
              " {'id': '2043', 'similarity': 0.4654196500778198},\n",
              " {'id': '4743', 'similarity': 0.4651997983455658},\n",
              " {'id': '4774', 'similarity': 0.4651997983455658},\n",
              " {'id': '2246', 'similarity': 0.4628605842590332},\n",
              " {'id': '7992', 'similarity': 0.45943841338157654}]"
            ]
          },
          "metadata": {},
          "execution_count": 86
        }
      ],
      "source": [
        "retriever(\"born for\")[:30]"
      ]
    },
    {
      "cell_type": "code",
      "execution_count": 87,
      "metadata": {
        "id": "HDJynT8eY8-f"
      },
      "outputs": [],
      "source": [
        "del documents"
      ]
    },
    {
      "cell_type": "code",
      "execution_count": 88,
      "metadata": {
        "colab": {
          "base_uri": "https://localhost:8080/"
        },
        "id": "okQ6Ped_48PQ",
        "outputId": "92780893-ce44-4716-ef72-e32843845c00"
      },
      "outputs": [
        {
          "output_type": "execute_result",
          "data": {
            "text/plain": [
              "{'id': '11'}"
            ]
          },
          "metadata": {},
          "execution_count": 88
        }
      ],
      "source": [
        "retriever.documents[10]"
      ]
    },
    {
      "cell_type": "code",
      "execution_count": 89,
      "metadata": {
        "id": "szEVOjMH_Y9T"
      },
      "outputs": [],
      "source": [
        "dataset_queries_iter = [[queryid, querytext] for queryid, querytext in dataset.queries_iter()]\n",
        "#dataset_queries_iter = dataset_queries_iter"
      ]
    },
    {
      "cell_type": "code",
      "execution_count": 90,
      "metadata": {
        "id": "R691qsoDBYr7"
      },
      "outputs": [],
      "source": [
        "run = {queryid:{x['id']:float(x['similarity']) if 'similarity' in x else 1/float(i+1) for i,x in enumerate(retriever(querytext))} for queryid, querytext in dataset_queries_iter}\n"
      ]
    },
    {
      "cell_type": "code",
      "execution_count": 91,
      "metadata": {
        "colab": {
          "base_uri": "https://localhost:8080/"
        },
        "id": "jLeD93V40EVt",
        "outputId": "e14fe3f6-f7ba-4681-fcdc-da9bd6d5f517"
      },
      "outputs": [
        {
          "output_type": "execute_result",
          "data": {
            "text/plain": [
              "map              0.146416\n",
              "ndcg_cut_5       0.268532\n",
              "ndcg_cut_10      0.246502\n",
              "ndcg_cut_15      0.238941\n",
              "ndcg_cut_20      0.230703\n",
              "ndcg_cut_30      0.237879\n",
              "ndcg_cut_100     0.307093\n",
              "ndcg_cut_200     0.354099\n",
              "ndcg_cut_500     0.413793\n",
              "ndcg_cut_1000    0.444316\n",
              "dtype: float64"
            ]
          },
          "metadata": {},
          "execution_count": 91
        }
      ],
      "source": [
        "pd.DataFrame(evaluator.evaluate(run)).T.mean()"
      ]
    },
    {
      "cell_type": "code",
      "execution_count": 91,
      "metadata": {
        "id": "5YbyHGly6ktF"
      },
      "outputs": [],
      "source": []
    },
    {
      "cell_type": "code",
      "execution_count": 91,
      "metadata": {
        "id": "NSZ7Jmpv6lH7"
      },
      "outputs": [],
      "source": []
    },
    {
      "cell_type": "code",
      "execution_count": 92,
      "metadata": {
        "colab": {
          "base_uri": "https://localhost:8080/"
        },
        "id": "ro-saf9RyIWL",
        "outputId": "d4612d4f-390e-4256-d38b-ae8016cb487c"
      },
      "outputs": [
        {
          "output_type": "execute_result",
          "data": {
            "text/plain": [
              "93"
            ]
          },
          "metadata": {},
          "execution_count": 92
        }
      ],
      "source": [
        "len(list(dataset.queries_iter()))"
      ]
    },
    {
      "cell_type": "code",
      "execution_count": 93,
      "metadata": {
        "colab": {
          "base_uri": "https://localhost:8080/"
        },
        "id": "Yq8oYfq5_QgN",
        "outputId": "dce41faa-9fdb-444b-80b1-3d455b56994e"
      },
      "outputs": [
        {
          "output_type": "stream",
          "name": "stdout",
          "text": [
            "11413\n"
          ]
        }
      ],
      "source": [
        "#index only retrieved documents when reranking\n",
        "docsinqueries = list(set([y  for x in [list(v.keys()) for k,v in run.items()] for y in x]))\n",
        "print(len(docsinqueries))\n",
        "docsinqueries = set(docsinqueries)\n",
        "docsinqueries = [{'id':doc,'title':doc,'url':doc,'article':text} for (doc, text) in dataset.docs_iter() if doc in docsinqueries]"
      ]
    },
    {
      "cell_type": "code",
      "execution_count": 93,
      "metadata": {
        "id": "qt4GWzciALzX"
      },
      "outputs": [],
      "source": []
    },
    {
      "cell_type": "code",
      "execution_count": 94,
      "metadata": {
        "id": "O9b0lNTYgy7g"
      },
      "outputs": [],
      "source": [
        "# Rerank on field article\n",
        "ranker = rank.Encoder(\n",
        "    key = \"id\",\n",
        "    on = [\"article\"],\n",
        "    encoder = SentenceTransformer(\"sentence-transformers/all-mpnet-base-v2\").encode,\n",
        "    k = 1000#,\n",
        "    #path = \"encoder_all-mpnet-base-v2.pkl\"\n",
        ")\n",
        "\n",
        "# Pipeline creation\n",
        "search = retriever + ranker"
      ]
    },
    {
      "cell_type": "code",
      "execution_count": 95,
      "metadata": {
        "colab": {
          "base_uri": "https://localhost:8080/"
        },
        "id": "ZFGlGl1Jgy-l",
        "outputId": "f1741781-4572-49c0-8e18-315df65323c5"
      },
      "outputs": [
        {
          "output_type": "stream",
          "name": "stderr",
          "text": [
            "Encoder ranker: 100%|██████████| 179/179 [58:06<00:00, 19.48s/it]\n"
          ]
        },
        {
          "output_type": "execute_result",
          "data": {
            "text/plain": [
              "TfIdf retriever\n",
              "\tkey      : id\n",
              "\ton       : article\n",
              "\tdocuments: 11429\n",
              "Encoder ranker\n",
              "\tkey       : id\n",
              "\ton        : article\n",
              "\tnormalize : True\n",
              "\tembeddings: 11413"
            ]
          },
          "metadata": {},
          "execution_count": 95
        }
      ],
      "source": [
        "# Preindexing\n",
        "search.add(documents=docsinqueries)"
      ]
    },
    {
      "cell_type": "code",
      "source": [],
      "metadata": {
        "id": "deiu_VO4K2v9"
      },
      "execution_count": 95,
      "outputs": []
    },
    {
      "cell_type": "code",
      "execution_count": 96,
      "metadata": {
        "colab": {
          "base_uri": "https://localhost:8080/"
        },
        "id": "djwOvGdXgzBe",
        "outputId": "ef8e5e22-b4f3-4b95-ea6c-3419d72b168e"
      },
      "outputs": [
        {
          "output_type": "stream",
          "name": "stderr",
          "text": [
            "Ranker scoring: 1it [00:00, 76.88it/s]\n",
            "Ranker sorting: 1it [00:00, 389.01it/s]\n",
            "Ranker scoring: 1it [00:00, 164.98it/s]\n",
            "Ranker sorting: 1it [00:00, 486.69it/s]\n",
            "Ranker scoring: 1it [00:00, 158.77it/s]\n",
            "Ranker sorting: 1it [00:00, 410.56it/s]\n",
            "Ranker scoring: 1it [00:00, 162.18it/s]\n",
            "Ranker sorting: 1it [00:00, 526.79it/s]\n",
            "Ranker scoring: 1it [00:00, 178.46it/s]\n",
            "Ranker sorting: 1it [00:00, 418.43it/s]\n",
            "Ranker scoring: 1it [00:00, 156.31it/s]\n",
            "Ranker sorting: 1it [00:00, 576.62it/s]\n",
            "Ranker scoring: 1it [00:00, 160.13it/s]\n",
            "Ranker sorting: 1it [00:00, 435.59it/s]\n",
            "Ranker scoring: 1it [00:00, 154.21it/s]\n",
            "Ranker sorting: 1it [00:00, 558.64it/s]\n",
            "Ranker scoring: 1it [00:00, 173.13it/s]\n",
            "Ranker sorting: 1it [00:00, 482.77it/s]\n",
            "Ranker scoring: 1it [00:00, 171.29it/s]\n",
            "Ranker sorting: 1it [00:00, 589.17it/s]\n",
            "Ranker scoring: 1it [00:00, 161.82it/s]\n",
            "Ranker sorting: 1it [00:00, 581.17it/s]\n",
            "Ranker scoring: 1it [00:00, 164.14it/s]\n",
            "Ranker sorting: 1it [00:00, 490.73it/s]\n",
            "Ranker scoring: 1it [00:00, 191.47it/s]\n",
            "Ranker sorting: 1it [00:00, 451.97it/s]\n",
            "Ranker scoring: 1it [00:00, 159.53it/s]\n",
            "Ranker sorting: 1it [00:00, 490.05it/s]\n",
            "Ranker scoring: 1it [00:00, 166.11it/s]\n",
            "Ranker sorting: 1it [00:00, 525.60it/s]\n",
            "Ranker scoring: 1it [00:00, 152.08it/s]\n",
            "Ranker sorting: 1it [00:00, 139.42it/s]\n",
            "Ranker scoring: 1it [00:00, 168.80it/s]\n",
            "Ranker sorting: 1it [00:00, 609.11it/s]\n",
            "Ranker scoring: 1it [00:00, 193.45it/s]\n",
            "Ranker sorting: 1it [00:00, 359.50it/s]\n",
            "Ranker scoring: 1it [00:00, 104.05it/s]\n",
            "Ranker sorting: 1it [00:00, 469.42it/s]\n",
            "Ranker scoring: 1it [00:00, 157.92it/s]\n",
            "Ranker sorting: 1it [00:00, 342.06it/s]\n",
            "Ranker scoring: 1it [00:00, 159.39it/s]\n",
            "Ranker sorting: 1it [00:00, 599.61it/s]\n",
            "Ranker scoring: 1it [00:00, 157.62it/s]\n",
            "Ranker sorting: 1it [00:00, 122.43it/s]\n",
            "Ranker scoring: 1it [00:00, 166.99it/s]\n",
            "Ranker sorting: 1it [00:00, 575.59it/s]\n",
            "Ranker scoring: 1it [00:00, 152.50it/s]\n",
            "Ranker sorting: 1it [00:00, 449.98it/s]\n",
            "Ranker scoring: 1it [00:00, 165.65it/s]\n",
            "Ranker sorting: 1it [00:00, 477.55it/s]\n",
            "Ranker scoring: 1it [00:00, 154.20it/s]\n",
            "Ranker sorting: 1it [00:00, 404.00it/s]\n",
            "Ranker scoring: 1it [00:00, 182.85it/s]\n",
            "Ranker sorting: 1it [00:00, 454.17it/s]\n",
            "Ranker scoring: 1it [00:00, 179.57it/s]\n",
            "Ranker sorting: 1it [00:00, 116.91it/s]\n",
            "Ranker scoring: 1it [00:00, 151.09it/s]\n",
            "Ranker sorting: 1it [00:00, 268.75it/s]\n",
            "Ranker scoring: 1it [00:00, 216.21it/s]\n",
            "Ranker sorting: 1it [00:00, 447.15it/s]\n",
            "Ranker scoring: 1it [00:00, 209.32it/s]\n",
            "Ranker sorting: 1it [00:00, 437.00it/s]\n",
            "Ranker scoring: 1it [00:00, 114.44it/s]\n",
            "Ranker sorting: 1it [00:00, 557.38it/s]\n",
            "Ranker scoring: 1it [00:00, 57.17it/s]\n",
            "Ranker sorting: 1it [00:00, 205.71it/s]\n",
            "Ranker scoring: 1it [00:00, 108.53it/s]\n",
            "Ranker sorting: 1it [00:00, 226.76it/s]\n",
            "Ranker scoring: 1it [00:00, 108.02it/s]\n",
            "Ranker sorting: 1it [00:00, 245.17it/s]\n",
            "Ranker scoring: 1it [00:00, 109.28it/s]\n",
            "Ranker sorting: 1it [00:00, 237.14it/s]\n",
            "Ranker scoring: 1it [00:00, 102.17it/s]\n",
            "Ranker sorting: 1it [00:00, 269.66it/s]\n",
            "Ranker scoring: 1it [00:00, 107.66it/s]\n",
            "Ranker sorting: 1it [00:00, 250.27it/s]\n",
            "Ranker scoring: 1it [00:00, 207.09it/s]\n",
            "Ranker sorting: 1it [00:00, 447.87it/s]\n",
            "Ranker scoring: 1it [00:00, 127.23it/s]\n",
            "Ranker sorting: 1it [00:00, 609.28it/s]\n",
            "Ranker scoring: 1it [00:00, 127.18it/s]\n",
            "Ranker sorting: 1it [00:00, 424.01it/s]\n",
            "Ranker scoring: 1it [00:00, 151.17it/s]\n",
            "Ranker sorting: 1it [00:00, 560.44it/s]\n",
            "Ranker scoring: 1it [00:00, 200.34it/s]\n",
            "Ranker sorting: 1it [00:00, 179.18it/s]\n",
            "Ranker scoring: 1it [00:00, 98.79it/s]\n",
            "Ranker sorting: 1it [00:00, 249.42it/s]\n",
            "Ranker scoring: 1it [00:00, 108.31it/s]\n",
            "Ranker sorting: 1it [00:00, 237.53it/s]\n",
            "Ranker scoring: 1it [00:00, 108.02it/s]\n",
            "Ranker sorting: 1it [00:00, 230.53it/s]\n",
            "Ranker scoring: 1it [00:00, 104.74it/s]\n",
            "Ranker sorting: 1it [00:00, 234.28it/s]\n",
            "Ranker scoring: 1it [00:00, 209.14it/s]\n",
            "Ranker sorting: 1it [00:00, 454.57it/s]\n",
            "Ranker scoring: 1it [00:00, 191.24it/s]\n",
            "Ranker sorting: 1it [00:00, 426.73it/s]\n",
            "Ranker scoring: 1it [00:00, 179.14it/s]\n",
            "Ranker sorting: 1it [00:00, 609.02it/s]\n",
            "Ranker scoring: 1it [00:00, 162.98it/s]\n",
            "Ranker sorting: 1it [00:00, 319.81it/s]\n",
            "Ranker scoring: 1it [00:00, 172.18it/s]\n",
            "Ranker sorting: 1it [00:00, 355.45it/s]\n",
            "Ranker scoring: 1it [00:00, 169.80it/s]\n",
            "Ranker sorting: 1it [00:00, 585.14it/s]\n",
            "Ranker scoring: 1it [00:00, 157.91it/s]\n",
            "Ranker sorting: 1it [00:00, 360.21it/s]\n",
            "Ranker scoring: 1it [00:00, 149.06it/s]\n",
            "Ranker sorting: 1it [00:00, 513.76it/s]\n",
            "Ranker scoring: 1it [00:00, 167.74it/s]\n",
            "Ranker sorting: 1it [00:00, 619.09it/s]\n",
            "Ranker scoring: 1it [00:00, 106.75it/s]\n",
            "Ranker sorting: 1it [00:00, 482.71it/s]\n",
            "Ranker scoring: 1it [00:00, 185.64it/s]\n",
            "Ranker sorting: 1it [00:00, 340.67it/s]\n",
            "Ranker scoring: 1it [00:00, 156.28it/s]\n",
            "Ranker sorting: 1it [00:00, 490.33it/s]\n",
            "Ranker scoring: 1it [00:00, 162.73it/s]\n",
            "Ranker sorting: 1it [00:00, 399.38it/s]\n",
            "Ranker scoring: 1it [00:00, 161.13it/s]\n",
            "Ranker sorting: 1it [00:00, 386.68it/s]\n",
            "Ranker scoring: 1it [00:00, 188.36it/s]\n",
            "Ranker sorting: 1it [00:00, 727.80it/s]\n",
            "Ranker scoring: 1it [00:00, 155.48it/s]\n",
            "Ranker sorting: 1it [00:00, 359.47it/s]\n",
            "Ranker scoring: 1it [00:00, 150.45it/s]\n",
            "Ranker sorting: 1it [00:00, 142.96it/s]\n",
            "Ranker scoring: 1it [00:00, 170.16it/s]\n",
            "Ranker sorting: 1it [00:00, 369.28it/s]\n",
            "Ranker scoring: 1it [00:00, 168.39it/s]\n",
            "Ranker sorting: 1it [00:00, 434.60it/s]\n",
            "Ranker scoring: 1it [00:00, 162.19it/s]\n",
            "Ranker sorting: 1it [00:00, 595.11it/s]\n",
            "Ranker scoring: 1it [00:00, 167.31it/s]\n",
            "Ranker sorting: 1it [00:00, 463.00it/s]\n",
            "Ranker scoring: 1it [00:00, 155.52it/s]\n",
            "Ranker sorting: 1it [00:00, 605.06it/s]\n",
            "Ranker scoring: 1it [00:00, 153.93it/s]\n",
            "Ranker sorting: 1it [00:00, 590.66it/s]\n",
            "Ranker scoring: 1it [00:00, 160.33it/s]\n",
            "Ranker sorting: 1it [00:00, 479.02it/s]\n",
            "Ranker scoring: 1it [00:00, 164.02it/s]\n",
            "Ranker sorting: 1it [00:00, 648.37it/s]\n",
            "Ranker scoring: 1it [00:00, 167.18it/s]\n",
            "Ranker sorting: 1it [00:00, 751.67it/s]\n",
            "Ranker scoring: 1it [00:00, 117.41it/s]\n",
            "Ranker sorting: 1it [00:00, 428.30it/s]\n",
            "Ranker scoring: 1it [00:00, 131.04it/s]\n",
            "Ranker sorting: 1it [00:00, 671.73it/s]\n",
            "Ranker scoring: 1it [00:00, 152.43it/s]\n",
            "Ranker sorting: 1it [00:00, 195.91it/s]\n",
            "Ranker scoring: 1it [00:00, 179.34it/s]\n",
            "Ranker sorting: 1it [00:00, 544.86it/s]\n",
            "Ranker scoring: 1it [00:00, 126.09it/s]\n",
            "Ranker sorting: 1it [00:00, 420.14it/s]\n",
            "Ranker scoring: 1it [00:00, 145.41it/s]\n",
            "Ranker sorting: 1it [00:00, 601.42it/s]\n",
            "Ranker scoring: 1it [00:00, 103.27it/s]\n",
            "Ranker sorting: 1it [00:00, 566.19it/s]\n",
            "Ranker scoring: 1it [00:00, 155.78it/s]\n",
            "Ranker sorting: 1it [00:00, 402.68it/s]\n",
            "Ranker scoring: 1it [00:00, 153.47it/s]\n",
            "Ranker sorting: 1it [00:00, 389.05it/s]\n",
            "Ranker scoring: 1it [00:00, 109.10it/s]\n",
            "Ranker sorting: 1it [00:00, 523.31it/s]\n",
            "Ranker scoring: 1it [00:00, 137.43it/s]\n",
            "Ranker sorting: 1it [00:00, 600.99it/s]\n",
            "Ranker scoring: 1it [00:00, 134.98it/s]\n",
            "Ranker sorting: 1it [00:00, 126.02it/s]\n",
            "Ranker scoring: 1it [00:00, 142.22it/s]\n",
            "Ranker sorting: 1it [00:00, 556.72it/s]\n",
            "Ranker scoring: 1it [00:00, 144.60it/s]\n",
            "Ranker sorting: 1it [00:00, 426.60it/s]\n",
            "Ranker scoring: 1it [00:00, 152.47it/s]\n",
            "Ranker sorting: 1it [00:00, 410.72it/s]\n",
            "Ranker scoring: 1it [00:00, 152.46it/s]\n",
            "Ranker sorting: 1it [00:00, 452.41it/s]\n",
            "Ranker scoring: 1it [00:00, 150.23it/s]\n",
            "Ranker sorting: 1it [00:00, 385.01it/s]\n",
            "Ranker scoring: 1it [00:00, 145.51it/s]\n",
            "Ranker sorting: 1it [00:00, 424.87it/s]\n",
            "Ranker scoring: 1it [00:00, 150.96it/s]\n",
            "Ranker sorting: 1it [00:00, 402.33it/s]\n",
            "Ranker scoring: 1it [00:00, 144.69it/s]\n",
            "Ranker sorting: 1it [00:00, 153.98it/s]\n"
          ]
        },
        {
          "output_type": "execute_result",
          "data": {
            "text/plain": [
              "map              0.277529\n",
              "ndcg_cut_5       0.489387\n",
              "ndcg_cut_10      0.453051\n",
              "ndcg_cut_15      0.432176\n",
              "ndcg_cut_20      0.425705\n",
              "ndcg_cut_30      0.423970\n",
              "ndcg_cut_100     0.493365\n",
              "ndcg_cut_200     0.539920\n",
              "ndcg_cut_500     0.571134\n",
              "ndcg_cut_1000    0.575336\n",
              "dtype: float64"
            ]
          },
          "metadata": {},
          "execution_count": 96
        }
      ],
      "source": [
        "# Retrieve and Rerank on field article and evaluate\n",
        "run = {queryid:{x['id']:float(x['similarity']) if 'similarity' in x else 1/float(i+1) for i,x in enumerate(search(querytext))} for queryid, querytext in dataset_queries_iter}\n",
        "pd.DataFrame(evaluator.evaluate(run)).T.mean()"
      ]
    },
    {
      "cell_type": "code",
      "execution_count": 96,
      "metadata": {
        "id": "ehIsrQUvgzKo"
      },
      "outputs": [],
      "source": []
    },
    {
      "cell_type": "code",
      "source": [],
      "metadata": {
        "id": "uJVplZ1dXpKy"
      },
      "execution_count": 96,
      "outputs": []
    },
    {
      "cell_type": "code",
      "source": [],
      "metadata": {
        "id": "q1a5QDh2XpNc"
      },
      "execution_count": 96,
      "outputs": []
    },
    {
      "cell_type": "code",
      "source": [],
      "metadata": {
        "id": "OnxZs7NxXpQ6"
      },
      "execution_count": 96,
      "outputs": []
    },
    {
      "cell_type": "code",
      "execution_count": 97,
      "metadata": {
        "id": "_xQEjjhpBYxq"
      },
      "outputs": [],
      "source": [
        "import pickle\n",
        "file_pi = open('search_tfidf_msmarcopassages_dl19_2024.obj', 'wb')\n",
        "pickle.dump((search,dataset_queries_iter,qrel), file_pi)"
      ]
    },
    {
      "cell_type": "code",
      "source": [
        "!cp search_tfidf_msmarcopassages_dl19_2024.obj drive/MyDrive/_RESEARCH/CHERCHE/"
      ],
      "metadata": {
        "id": "h2xdjwjPeOdt",
        "outputId": "ed5ad605-594e-4f32-827b-f4c909291917",
        "colab": {
          "base_uri": "https://localhost:8080/"
        }
      },
      "execution_count": 98,
      "outputs": [
        {
          "output_type": "stream",
          "name": "stdout",
          "text": [
            "cp: cannot create regular file 'drive/MyDrive/_RESEARCH/CHERCHE/': No such file or directory\n"
          ]
        }
      ]
    },
    {
      "cell_type": "code",
      "source": [],
      "metadata": {
        "id": "JFnWvCN8f3mM"
      },
      "execution_count": 98,
      "outputs": []
    },
    {
      "cell_type": "code",
      "source": [],
      "metadata": {
        "id": "VUtKDNF2f3yd"
      },
      "execution_count": 98,
      "outputs": []
    },
    {
      "cell_type": "markdown",
      "source": [
        "# Rerun using precalculated searcher"
      ],
      "metadata": {
        "id": "7ZJA-TvrfGgV"
      }
    },
    {
      "cell_type": "code",
      "source": [
        "!cp drive/MyDrive/_RESEARCH/CHERCHE/search_tfidf_msmarcopassages_dl19_2024.obj ."
      ],
      "metadata": {
        "id": "L4xow4spesQb",
        "outputId": "7433b112-41e4-44a1-e277-2c6c0a949b00",
        "colab": {
          "base_uri": "https://localhost:8080/"
        }
      },
      "execution_count": 99,
      "outputs": [
        {
          "output_type": "stream",
          "name": "stdout",
          "text": [
            "cp: cannot stat 'drive/MyDrive/_RESEARCH/CHERCHE/search_tfidf_msmarcopassages_dl19_2024.obj': No such file or directory\n"
          ]
        }
      ]
    },
    {
      "cell_type": "code",
      "execution_count": 100,
      "metadata": {
        "id": "pOCVwYrVC6iy"
      },
      "outputs": [],
      "source": [
        "import pickle\n",
        "file_pi = open('search_tfidf_msmarcopassages_dl19_2024.obj', 'rb')\n",
        "(search,dataset_queries_iter,qrel) = pickle.load(file_pi)"
      ]
    },
    {
      "cell_type": "code",
      "source": [
        "evaluator = pytrec_eval.RelevanceEvaluator(\n",
        "    qrel, {'map', 'ndcg_cut'})"
      ],
      "metadata": {
        "id": "fad9kOowcydC"
      },
      "execution_count": 101,
      "outputs": []
    },
    {
      "cell_type": "code",
      "source": [
        "run = {queryid:{x['id']:float(x['similarity']) if 'similarity' in x else 1/float(i+1) for i,x in enumerate(search(querytext))} for queryid, querytext in dataset_queries_iter}\n",
        "pd.DataFrame(evaluator.evaluate(run)).T.mean()"
      ],
      "metadata": {
        "colab": {
          "base_uri": "https://localhost:8080/"
        },
        "id": "LuR5g36ic7UP",
        "outputId": "dd6778fe-c8d6-4b2b-f9f4-681414b8cc79"
      },
      "execution_count": 102,
      "outputs": [
        {
          "output_type": "stream",
          "name": "stderr",
          "text": [
            "Ranker scoring: 1it [00:00, 187.82it/s]\n",
            "Ranker sorting: 1it [00:00, 462.39it/s]\n",
            "Ranker scoring: 1it [00:00, 128.51it/s]\n",
            "Ranker sorting: 1it [00:00, 339.48it/s]\n",
            "Ranker scoring: 1it [00:00, 177.48it/s]\n",
            "Ranker sorting: 1it [00:00, 369.93it/s]\n",
            "Ranker scoring: 1it [00:00, 172.77it/s]\n",
            "Ranker sorting: 1it [00:00, 452.85it/s]\n",
            "Ranker scoring: 1it [00:00, 140.32it/s]\n",
            "Ranker sorting: 1it [00:00, 425.13it/s]\n",
            "Ranker scoring: 1it [00:00, 190.58it/s]\n",
            "Ranker sorting: 1it [00:00, 394.09it/s]\n",
            "Ranker scoring: 1it [00:00, 167.22it/s]\n",
            "Ranker sorting: 1it [00:00, 363.58it/s]\n",
            "Ranker scoring: 1it [00:00, 192.51it/s]\n",
            "Ranker sorting: 1it [00:00, 457.24it/s]\n",
            "Ranker scoring: 1it [00:00, 129.04it/s]\n",
            "Ranker sorting: 1it [00:00, 143.92it/s]\n",
            "Ranker scoring: 1it [00:00, 156.84it/s]\n",
            "Ranker sorting: 1it [00:00, 144.67it/s]\n",
            "Ranker scoring: 1it [00:00, 152.31it/s]\n",
            "Ranker sorting: 1it [00:00, 90.10it/s]\n",
            "Ranker scoring: 1it [00:00, 171.40it/s]\n",
            "Ranker sorting: 1it [00:00, 270.77it/s]\n",
            "Ranker scoring: 1it [00:00, 146.68it/s]\n",
            "Ranker sorting: 1it [00:00, 255.55it/s]\n",
            "Ranker scoring: 1it [00:00, 156.59it/s]\n",
            "Ranker sorting: 1it [00:00, 186.36it/s]\n",
            "Ranker scoring: 1it [00:00, 104.65it/s]\n",
            "Ranker sorting: 1it [00:00, 535.60it/s]\n",
            "Ranker scoring: 1it [00:00, 163.65it/s]\n",
            "Ranker sorting: 1it [00:00, 176.02it/s]\n",
            "Ranker scoring: 1it [00:00, 143.24it/s]\n",
            "Ranker sorting: 1it [00:00, 540.99it/s]\n",
            "Ranker scoring: 1it [00:00, 140.87it/s]\n",
            "Ranker sorting: 1it [00:00, 152.82it/s]\n",
            "Ranker scoring: 1it [00:00, 183.25it/s]\n",
            "Ranker sorting: 1it [00:00, 479.68it/s]\n",
            "Ranker scoring: 1it [00:00, 169.86it/s]\n",
            "Ranker sorting: 1it [00:00, 491.37it/s]\n",
            "Ranker scoring: 1it [00:00, 166.94it/s]\n",
            "Ranker sorting: 1it [00:00, 373.16it/s]\n",
            "Ranker scoring: 1it [00:00, 176.51it/s]\n",
            "Ranker sorting: 1it [00:00, 147.54it/s]\n",
            "Ranker scoring: 1it [00:00, 159.39it/s]\n",
            "Ranker sorting: 1it [00:00, 377.56it/s]\n",
            "Ranker scoring: 1it [00:00, 153.72it/s]\n",
            "Ranker sorting: 1it [00:00, 591.25it/s]\n",
            "Ranker scoring: 1it [00:00, 192.29it/s]\n",
            "Ranker sorting: 1it [00:00, 568.80it/s]\n",
            "Ranker scoring: 1it [00:00, 149.23it/s]\n",
            "Ranker sorting: 1it [00:00, 594.09it/s]\n",
            "Ranker scoring: 1it [00:00, 162.13it/s]\n",
            "Ranker sorting: 1it [00:00, 160.94it/s]\n",
            "Ranker scoring: 1it [00:00, 173.09it/s]\n",
            "Ranker sorting: 1it [00:00, 149.97it/s]\n",
            "Ranker scoring: 1it [00:00, 174.66it/s]\n",
            "Ranker sorting: 1it [00:00, 501.41it/s]\n",
            "Ranker scoring: 1it [00:00, 152.14it/s]\n",
            "Ranker sorting: 1it [00:00, 551.74it/s]\n",
            "Ranker scoring: 1it [00:00, 148.09it/s]\n",
            "Ranker sorting: 1it [00:00, 616.63it/s]\n",
            "Ranker scoring: 1it [00:00, 155.04it/s]\n",
            "Ranker sorting: 1it [00:00, 438.64it/s]\n",
            "Ranker scoring: 1it [00:00, 168.37it/s]\n",
            "Ranker sorting: 1it [00:00, 476.84it/s]\n",
            "Ranker scoring: 1it [00:00, 155.76it/s]\n",
            "Ranker sorting: 1it [00:00, 374.32it/s]\n",
            "Ranker scoring: 1it [00:00, 162.73it/s]\n",
            "Ranker sorting: 1it [00:00, 182.65it/s]\n",
            "Ranker scoring: 1it [00:00, 163.05it/s]\n",
            "Ranker sorting: 1it [00:00, 524.35it/s]\n",
            "Ranker scoring: 1it [00:00, 170.11it/s]\n",
            "Ranker sorting: 1it [00:00, 335.33it/s]\n",
            "Ranker scoring: 1it [00:00, 185.42it/s]\n",
            "Ranker sorting: 1it [00:00, 435.91it/s]\n",
            "Ranker scoring: 1it [00:00, 155.28it/s]\n",
            "Ranker sorting: 1it [00:00, 557.60it/s]\n",
            "Ranker scoring: 1it [00:00, 132.92it/s]\n",
            "Ranker sorting: 1it [00:00, 441.00it/s]\n",
            "Ranker scoring: 1it [00:00, 151.21it/s]\n",
            "Ranker sorting: 1it [00:00, 582.30it/s]\n",
            "Ranker scoring: 1it [00:00, 152.79it/s]\n",
            "Ranker sorting: 1it [00:00, 435.27it/s]\n",
            "Ranker scoring: 1it [00:00, 165.42it/s]\n",
            "Ranker sorting: 1it [00:00, 491.77it/s]\n",
            "Ranker scoring: 1it [00:00, 215.65it/s]\n",
            "Ranker sorting: 1it [00:00, 366.06it/s]\n",
            "Ranker scoring: 1it [00:00, 208.92it/s]\n",
            "Ranker sorting: 1it [00:00, 243.66it/s]\n",
            "Ranker scoring: 1it [00:00, 97.41it/s]\n",
            "Ranker sorting: 1it [00:00, 231.82it/s]\n",
            "Ranker scoring: 1it [00:00, 98.68it/s]\n",
            "Ranker sorting: 1it [00:00, 233.55it/s]\n",
            "Ranker scoring: 1it [00:00, 94.86it/s]\n",
            "Ranker sorting: 1it [00:00, 230.28it/s]\n",
            "Ranker scoring: 1it [00:00, 95.92it/s]\n",
            "Ranker sorting: 1it [00:00, 235.11it/s]\n",
            "Ranker scoring: 1it [00:00, 74.06it/s]\n",
            "Ranker sorting: 1it [00:00, 233.41it/s]\n",
            "Ranker scoring: 1it [00:00, 88.98it/s]\n",
            "Ranker sorting: 1it [00:00, 244.91it/s]\n",
            "Ranker scoring: 1it [00:00, 138.24it/s]\n",
            "Ranker sorting: 1it [00:00, 331.25it/s]\n",
            "Ranker scoring: 1it [00:00, 149.38it/s]\n",
            "Ranker sorting: 1it [00:00, 358.98it/s]\n",
            "Ranker scoring: 1it [00:00, 156.40it/s]\n",
            "Ranker sorting: 1it [00:00, 625.27it/s]\n",
            "Ranker scoring: 1it [00:00, 104.85it/s]\n",
            "Ranker sorting: 1it [00:00, 359.47it/s]\n",
            "Ranker scoring: 1it [00:00, 207.33it/s]\n",
            "Ranker sorting: 1it [00:00, 463.15it/s]\n",
            "Ranker scoring: 1it [00:00, 93.96it/s]\n",
            "Ranker sorting: 1it [00:00, 589.92it/s]\n",
            "Ranker scoring: 1it [00:00, 97.53it/s]\n",
            "Ranker sorting: 1it [00:00, 209.15it/s]\n",
            "Ranker scoring: 1it [00:00, 95.58it/s]\n",
            "Ranker sorting: 1it [00:00, 187.15it/s]\n",
            "Ranker scoring: 1it [00:00, 174.27it/s]\n",
            "Ranker sorting: 1it [00:00, 352.67it/s]\n",
            "Ranker scoring: 1it [00:00, 239.80it/s]\n",
            "Ranker sorting: 1it [00:00, 404.97it/s]\n",
            "Ranker scoring: 1it [00:00, 263.48it/s]\n",
            "Ranker sorting: 1it [00:00, 708.02it/s]\n",
            "Ranker scoring: 1it [00:00, 166.50it/s]\n",
            "Ranker sorting: 1it [00:00, 328.97it/s]\n",
            "Ranker scoring: 1it [00:00, 154.96it/s]\n",
            "Ranker sorting: 1it [00:00, 143.57it/s]\n",
            "Ranker scoring: 1it [00:00, 158.56it/s]\n",
            "Ranker sorting: 1it [00:00, 162.21it/s]\n",
            "Ranker scoring: 1it [00:00, 155.41it/s]\n",
            "Ranker sorting: 1it [00:00, 167.16it/s]\n",
            "Ranker scoring: 1it [00:00, 155.56it/s]\n",
            "Ranker sorting: 1it [00:00, 214.55it/s]\n",
            "Ranker scoring: 1it [00:00, 188.23it/s]\n",
            "Ranker sorting: 1it [00:00, 394.39it/s]\n",
            "Ranker scoring: 1it [00:00, 146.94it/s]\n",
            "Ranker sorting: 1it [00:00, 601.68it/s]\n",
            "Ranker scoring: 1it [00:00, 131.41it/s]\n",
            "Ranker sorting: 1it [00:00, 405.48it/s]\n",
            "Ranker scoring: 1it [00:00, 168.22it/s]\n",
            "Ranker sorting: 1it [00:00, 464.59it/s]\n",
            "Ranker scoring: 1it [00:00, 167.18it/s]\n",
            "Ranker sorting: 1it [00:00, 543.37it/s]\n",
            "Ranker scoring: 1it [00:00, 122.96it/s]\n",
            "Ranker sorting: 1it [00:00, 775.72it/s]\n",
            "Ranker scoring: 1it [00:00, 168.32it/s]\n",
            "Ranker sorting: 1it [00:00, 187.98it/s]\n",
            "Ranker scoring: 1it [00:00, 206.40it/s]\n",
            "Ranker sorting: 1it [00:00, 679.35it/s]\n",
            "Ranker scoring: 1it [00:00, 121.33it/s]\n",
            "Ranker sorting: 1it [00:00, 589.00it/s]\n",
            "Ranker scoring: 1it [00:00, 102.75it/s]\n",
            "Ranker sorting: 1it [00:00, 575.98it/s]\n",
            "Ranker scoring: 1it [00:00, 142.56it/s]\n",
            "Ranker sorting: 1it [00:00, 607.78it/s]\n",
            "Ranker scoring: 1it [00:00, 160.17it/s]\n",
            "Ranker sorting: 1it [00:00, 396.81it/s]\n",
            "Ranker scoring: 1it [00:00, 160.65it/s]\n",
            "Ranker sorting: 1it [00:00, 414.50it/s]\n",
            "Ranker scoring: 1it [00:00, 151.86it/s]\n",
            "Ranker sorting: 1it [00:00, 311.75it/s]\n",
            "Ranker scoring: 1it [00:00, 203.25it/s]\n",
            "Ranker sorting: 1it [00:00, 401.25it/s]\n",
            "Ranker scoring: 1it [00:00, 167.52it/s]\n",
            "Ranker sorting: 1it [00:00, 428.95it/s]\n",
            "Ranker scoring: 1it [00:00, 155.85it/s]\n",
            "Ranker sorting: 1it [00:00, 460.00it/s]\n",
            "Ranker scoring: 1it [00:00, 148.67it/s]\n",
            "Ranker sorting: 1it [00:00, 157.14it/s]\n",
            "Ranker scoring: 1it [00:00, 128.76it/s]\n",
            "Ranker sorting: 1it [00:00, 109.56it/s]\n",
            "Ranker scoring: 1it [00:00, 161.64it/s]\n",
            "Ranker sorting: 1it [00:00, 352.61it/s]\n",
            "Ranker scoring: 1it [00:00, 157.33it/s]\n",
            "Ranker sorting: 1it [00:00, 517.05it/s]\n",
            "Ranker scoring: 1it [00:00, 120.81it/s]\n",
            "Ranker sorting: 1it [00:00, 529.92it/s]\n",
            "Ranker scoring: 1it [00:00, 129.92it/s]\n",
            "Ranker sorting: 1it [00:00, 405.29it/s]\n",
            "Ranker scoring: 1it [00:00, 135.20it/s]\n",
            "Ranker sorting: 1it [00:00, 480.94it/s]\n",
            "Ranker scoring: 1it [00:00, 130.76it/s]\n",
            "Ranker sorting: 1it [00:00, 196.68it/s]\n",
            "Ranker scoring: 1it [00:00, 147.80it/s]\n",
            "Ranker sorting: 1it [00:00, 287.77it/s]\n"
          ]
        },
        {
          "output_type": "execute_result",
          "data": {
            "text/plain": [
              "map              0.277529\n",
              "ndcg_cut_5       0.489387\n",
              "ndcg_cut_10      0.453051\n",
              "ndcg_cut_15      0.432176\n",
              "ndcg_cut_20      0.425705\n",
              "ndcg_cut_30      0.423970\n",
              "ndcg_cut_100     0.493365\n",
              "ndcg_cut_200     0.539920\n",
              "ndcg_cut_500     0.571134\n",
              "ndcg_cut_1000    0.575336\n",
              "dtype: float64"
            ]
          },
          "metadata": {},
          "execution_count": 102
        }
      ]
    },
    {
      "cell_type": "code",
      "source": [],
      "metadata": {
        "id": "rfTA7dIu_xOh"
      },
      "execution_count": 102,
      "outputs": []
    },
    {
      "cell_type": "code",
      "source": [],
      "metadata": {
        "id": "HmXyiKOe_xRm"
      },
      "execution_count": 102,
      "outputs": []
    },
    {
      "cell_type": "code",
      "source": [],
      "metadata": {
        "id": "iTTXrzMA_xU7"
      },
      "execution_count": 102,
      "outputs": []
    },
    {
      "cell_type": "code",
      "source": [],
      "metadata": {
        "id": "YZFn7VJg_xY1"
      },
      "execution_count": 102,
      "outputs": []
    }
  ],
  "metadata": {
    "colab": {
      "provenance": []
    },
    "kernelspec": {
      "display_name": "Python 3",
      "name": "python3"
    },
    "language_info": {
      "name": "python"
    }
  },
  "nbformat": 4,
  "nbformat_minor": 0
}